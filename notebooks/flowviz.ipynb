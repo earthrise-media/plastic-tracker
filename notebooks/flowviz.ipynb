{
 "cells": [
  {
   "cell_type": "code",
   "execution_count": null,
   "metadata": {},
   "outputs": [],
   "source": [
    "import pandas as pd\n",
    "import numpy as np\n",
    "import plotly.graph_objects as go"
   ]
  },
  {
   "cell_type": "markdown",
   "metadata": {},
   "source": [
    "## Flow diagrams\n",
    "Ulimately trying to generate the *sankey* diagrams in d3.js, like [this one](https://observablehq.com/@d3/sankey-diagram). The API reference, which informs the data structures, is [found here](https://github.com/d3/d3-sankey) on Github.  Python implementations can be [found here](https://plotly.com/python/sankey-diagram/), with a [tutorial here](https://coderzcolumn.com/tutorials/data-science/how-to-plot-sankey-diagram-in-python-jupyter-notebook-holoviews-and-plotly)."
   ]
  },
  {
   "cell_type": "markdown",
   "metadata": {},
   "source": [
    "### Production\n",
    "A data frame that shows production of polymer (e.g., LDPE) by operator in 2019, with additional variables like Region, Country, and State Province."
   ]
  },
  {
   "cell_type": "code",
   "execution_count": null,
   "metadata": {},
   "outputs": [],
   "source": [
    "production_df = pd.read_excel(\n",
    "    \"../data/outputs.xlsx\",\n",
    "    engine='openpyxl',\n",
    "    sheet_name=\"Production\",\n",
    "    skiprows=3,\n",
    "    usecols=\"B:I,K\",\n",
    "    nrows=1205,\n",
    "    dtype={\n",
    "        \"Asset ID\": np.int32\n",
    "    }\n",
    ")\n",
    "\n",
    "production_df.to_pickle(\"../dataframes/production.pkl\")"
   ]
  },
  {
   "cell_type": "markdown",
   "metadata": {},
   "source": [
    "Create a list of the top ten producers, just for reference in this demo notebook"
   ]
  },
  {
   "cell_type": "code",
   "execution_count": null,
   "metadata": {},
   "outputs": [],
   "source": [
    "top_producers = production_df.groupby([\"Operator\"]).sum().reset_index()\n",
    "top_producers = top_producers[[\"Operator\", \"2019 Production\"]].sort_values(by=[\"2019 Production\"], ascending=False)\n",
    "top_producers = top_producers[\"Operator\"].to_list()"
   ]
  },
  {
   "cell_type": "markdown",
   "metadata": {},
   "source": [
    "### Resin Trade"
   ]
  },
  {
   "cell_type": "code",
   "execution_count": null,
   "metadata": {},
   "outputs": [],
   "source": [
    "resin_trade_df = pd.read_excel(\n",
    "    \"../data/outputs.xlsx\",\n",
    "    engine='openpyxl',\n",
    "    sheet_name=\"Resin Trade\",\n",
    "    skiprows=3,\n",
    "    usecols=\"C:GE\",\n",
    "    nrows=1205,\n",
    "    dtype={\n",
    "        \"Asset ID\": np.int32\n",
    "    }\n",
    ")"
   ]
  },
  {
   "cell_type": "markdown",
   "metadata": {},
   "source": [
    "Create a dataframe in long-form indicating the trade from owners to countries, prepared for input into Holoviews (i.e., three columns with the source, destination, and value).  Note that each row is a separate *asset* so that there will be duplicate entries at the owner-country-polymer link level, which will have to be aggregated."
   ]
  },
  {
   "cell_type": "code",
   "execution_count": null,
   "metadata": {},
   "outputs": [],
   "source": [
    "res = []\n",
    "\n",
    "for idx, record in resin_trade_df.iterrows():\n",
    "    \n",
    "    owner = record[\"Owner Name\"]\n",
    "    polymer = record[\"Polymer\"]\n",
    "    recs = record[7:].reset_index() # the trade matrix starts on the column with index 7\n",
    "\n",
    "    recs.columns = [\"country\", \"tradeval\"]\n",
    "    recs = recs[recs.tradeval > 0]\n",
    "    recs[\"owner\"] = owner\n",
    "    recs[\"polymer\"] = polymer\n",
    "    recs = recs[[\"owner\", \"country\", \"tradeval\", \"polymer\"]]\n",
    "\n",
    "    res.append(recs)\n",
    "\n",
    "trade_links = pd.concat(res, ignore_index=True)\n",
    "trade_links.to_pickle(\"../dataframes/resin_trade_links.pkl\")"
   ]
  },
  {
   "cell_type": "markdown",
   "metadata": {},
   "source": [
    "### Conversion\n",
    "Just plot in-scope volumes, not rigid plastics.  There are multiple matrices within this single sheet.  The other two (out-of-scope) matrices are the rigid plastics and flexible plastics that are used "
   ]
  },
  {
   "cell_type": "code",
   "execution_count": null,
   "metadata": {},
   "outputs": [],
   "source": [
    "conversion_df = pd.read_excel(\n",
    "    \"../data/outputs.xlsx\",\n",
    "    engine='openpyxl',\n",
    "    sheet_name=\"Conversion\",\n",
    "    skiprows=2,\n",
    "    usecols=\"B:GB\",\n",
    "    nrows=1205,\n",
    "    dtype={\n",
    "        \"Asset ID\": np.int32\n",
    "    }\n",
    ")"
   ]
  },
  {
   "cell_type": "code",
   "execution_count": null,
   "metadata": {},
   "outputs": [],
   "source": [
    "res = []\n",
    "\n",
    "for idx, record in conversion_df.iterrows():\n",
    "    \n",
    "    owner = record[\"Owner Name\"]\n",
    "    source_country = record[\"Country\"]\n",
    "    polymer = record[\"Polymer\"]\n",
    "    recs = record[5:].reset_index() # the trade matrix starts on the column with index 5\n",
    "\n",
    "    recs.columns = [\"country\", \"tradeval\"]\n",
    "    recs = recs[recs.tradeval > 0]\n",
    "    recs[\"owner\"] = owner\n",
    "    recs[\"polymer\"] = polymer\n",
    "    recs[\"source_country\"] = source_country\n",
    "    recs = recs[[\"source_country\", \"country\", \"tradeval\", \"owner\", \"polymer\"]]\n",
    "\n",
    "    res.append(recs)\n",
    "\n",
    "conversion_links = pd.concat(res, ignore_index=True)\n",
    "conversion_links.to_pickle(\"../dataframes/conversion_links.pkl\")"
   ]
  },
  {
   "cell_type": "markdown",
   "metadata": {},
   "source": [
    "### Visualizations\n",
    "Demonstrate the most basic flow diagram."
   ]
  },
  {
   "cell_type": "code",
   "execution_count": null,
   "metadata": {},
   "outputs": [],
   "source": [
    "polymer = \"LDPE\"\n",
    "n_producer = 10\n",
    "min_tradeval = 30\n",
    "\n",
    "viz_links = conversion_links[conversion_links.owner.isin(top_producers[0:n_producer])]\n",
    "viz_links = viz_links[viz_links.polymer == \"LDPE\"].groupby([\"source_country\", \"polymer\", \"country\"]).sum()\n",
    "viz_links = viz_links[viz_links.tradeval > min_tradeval].reset_index()\n",
    "countries = set(viz_links.source_country).union(set(viz_links.country))\n",
    "nodes = sorted(list(countries))\n",
    "node_dict = {nodes[i]: i for i in range(len(nodes))}\n",
    "viz_links[\"source\"] = viz_links.source_country.map(node_dict)\n",
    "viz_links[\"target\"] = viz_links.country.map(node_dict)\n",
    "viz_links[\"value\"]  = viz_links.tradeval\n",
    "labels = list(node_dict.keys())\n",
    "\n",
    "link = dict(source = viz_links.source, target = viz_links.target, value = viz_links.value)\n",
    "data = go.Sankey(link = link)\n",
    "\n",
    "fig = go.Figure(data)\n",
    "fig.show()"
   ]
  },
  {
   "cell_type": "markdown",
   "metadata": {},
   "source": [
    "Remove cycles"
   ]
  },
  {
   "cell_type": "code",
   "execution_count": null,
   "metadata": {},
   "outputs": [],
   "source": [
    "polymer = \"LDPE\"\n",
    "n_producer = 10\n",
    "min_tradeval = 30\n",
    "\n",
    "viz_links = conversion_links[conversion_links.owner.isin(top_producers[0:n_producer])]\n",
    "viz_links = viz_links[viz_links.polymer == \"LDPE\"].groupby([\"source_country\", \"polymer\", \"country\"]).sum()\n",
    "viz_links = viz_links[viz_links.tradeval > min_tradeval].reset_index()\n",
    "\n",
    "source = sorted(list(set(viz_links.source_country)))\n",
    "target = sorted(list(set(viz_links.country)))\n",
    "\n",
    "source_node_dict = {source[i]: i for i in range(len(source))}\n",
    "target_node_dict = {target[i]: i + len(source) for i in range(len(target))}\n",
    "\n",
    "viz_links[\"source\"] = viz_links.source_country.map(source_node_dict)\n",
    "viz_links[\"target\"] = viz_links.country.map(target_node_dict)\n",
    "viz_links[\"value\"]  = viz_links.tradeval\n",
    "labels = list(node_dict.keys())\n",
    "\n",
    "link = dict(source = viz_links.source, target = viz_links.target, value = viz_links.value)\n",
    "data = go.Sankey(link = link)\n",
    "\n",
    "fig = go.Figure(data)\n",
    "fig.show()"
   ]
  },
  {
   "cell_type": "code",
   "execution_count": null,
   "metadata": {},
   "outputs": [],
   "source": [
    "polymer = \"LDPE\"\n",
    "n_producer = 10\n",
    "min_tradeval = 30\n",
    "\n",
    "second_link = trade_links[trade_links.owner.isin(top_producers[0:n_producer])]\n",
    "second_link = second_link[second_link.polymer == polymer].groupby([\"owner\", \"polymer\", \"country\"]).sum()\n",
    "second_link = second_link[second_link.tradeval > min_tradeval].reset_index()\n",
    "\n",
    "b_nodes = sorted(list(\n",
    "    set(second_link.owner)\n",
    "))\n",
    "\n",
    "# The target for the second link is the source for third (and final) link\n",
    "c_nodes = sorted(list(\n",
    "    set(second_link.country)\n",
    "))\n",
    "\n",
    "b_node_dict = {b_nodes[i]: i for i in range(len(b_nodes))}\n",
    "c_node_dict = {c_nodes[i]: i + len(b_nodes) for i in range(len(c_nodes))}\n",
    "\n",
    "\n",
    "second_source = second_link.owner.map(b_node_dict)\n",
    "second_target = second_link.country.map(c_node_dict)\n",
    "\n",
    "viz_links = pd.DataFrame.from_dict({\n",
    "    \"source\": second_source,\n",
    "    \"target\": second_target, \n",
    "    \"value\" : second_link.tradeval\n",
    "})\n",
    "\n",
    "\n",
    "third_link = conversion_links[conversion_links.source_country.isin(c_nodes)]\n",
    "third_link = third_link[third_link.polymer == polymer].groupby([\"source_country\", \"polymer\", \"country\"]).sum()\n",
    "third_link = third_link[third_link.tradeval > min_tradeval].reset_index()\n",
    "\n",
    "d_nodes = sorted(list(\n",
    "    set(third_link.country)\n",
    "))\n",
    "\n",
    "d_node_dict = {d_nodes[i]: i + len(b_nodes) + len(c_nodes) for i in range(len(d_nodes))}\n",
    "\n",
    "third_source = third_link.source_country.map(c_node_dict)\n",
    "third_target = third_link.country.map(d_node_dict)\n",
    "\n",
    "viz_links_b = pd.DataFrame.from_dict({\n",
    "    \"source\": third_source,\n",
    "    \"target\": third_target, \n",
    "    \"value\" : third_link.tradeval\n",
    "})\n",
    "\n",
    "viz_links = viz_links.append(viz_links_b, ignore_index=True)\n",
    "\n",
    "labels = b_nodes + c_nodes + d_nodes\n",
    "\n",
    "fig = go.Figure(data=[go.Sankey(\n",
    "    node = dict(\n",
    "      pad = 15,\n",
    "      thickness = 30,\n",
    "      line = dict(color = \"black\", width = 0.5),\n",
    "      label = labels,\n",
    "      color = \"#303030\"\n",
    "    ),\n",
    "    link = dict(\n",
    "      source = viz_links.source,\n",
    "      target = viz_links.target,\n",
    "      value = viz_links.value\n",
    "  ))])\n",
    "\n",
    "fig.show()"
   ]
  }
 ],
 "metadata": {
  "kernelspec": {
   "display_name": "Python 3",
   "language": "python",
   "name": "python3"
  },
  "language_info": {
   "codemirror_mode": {
    "name": "ipython",
    "version": 3
   },
   "file_extension": ".py",
   "mimetype": "text/x-python",
   "name": "python",
   "nbconvert_exporter": "python",
   "pygments_lexer": "ipython3",
   "version": "3.6.5"
  }
 },
 "nbformat": 4,
 "nbformat_minor": 4
}
