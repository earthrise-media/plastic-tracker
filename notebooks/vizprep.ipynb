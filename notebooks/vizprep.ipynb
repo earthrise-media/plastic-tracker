{
 "cells": [
  {
   "cell_type": "code",
   "execution_count": 1,
   "metadata": {},
   "outputs": [],
   "source": [
    "import pandas as pd\n",
    "import numpy as np\n",
    "import plotly.graph_objects as go"
   ]
  },
  {
   "cell_type": "code",
   "execution_count": 28,
   "metadata": {},
   "outputs": [],
   "source": [
    "def filter_df(df, num_sources=None, num_targets=None):\n",
    "    \"\"\"\n",
    "    A function to filter the data frame by top n sources and targets\n",
    "    If num_sources or num_targets args are not supplied, they will not be filtered\n",
    "    \"\"\"\n",
    "    if num_targets:\n",
    "        top_targets = df.sum().sort_values(ascending=False)\n",
    "        df = df[top_targets[:num_targets].index]\n",
    "    \n",
    "    if num_sources:\n",
    "        top_sources = df.sum(axis=1).sort_values(ascending=False)[:num_sources]\n",
    "        df = df.loc[top_sources.index]\n",
    "    \n",
    "    return df\n",
    "\n",
    "\n",
    "def create_sankey_df(df, min_val=0):\n",
    "    \"\"\"\n",
    "    Create the human-readable form of the Sankey chart data from an input data frame\n",
    "    Data can be filtered by a threshold minimum value\n",
    "    | Source | Source Value | Target | Target Value |\n",
    "    |    A   |      5       |   i    |      3       |\n",
    "    |    A   |      5       |   j    |      2       |\n",
    "    |    B   |      7       |   i    |      1       |\n",
    "    |    B   |      7       |   k    |      4       |\n",
    "    \"\"\"\n",
    "    \n",
    "    sources = []\n",
    "    source_vals = []\n",
    "    targets = []\n",
    "    target_vals = []\n",
    "    for source_name in df.index:\n",
    "        row = df.loc[source_name]\n",
    "        sources += [source_name] * sum(row.values > min_val)\n",
    "        source_vals += [row[row.values > min_val].sum()] * sum(row.values > min_val)\n",
    "        targets += list(row[row > min_val].index)\n",
    "        target_vals += list(row[row > min_val].values)\n",
    "    \n",
    "    sankey_df = pd.DataFrame({\n",
    "        'source': sources,\n",
    "        'target': targets,\n",
    "        'value': target_vals\n",
    "    })\n",
    "    \n",
    "    return sankey_df\n",
    "\n",
    "\n",
    "def create_label_dict(node_df, start_idx=0):\n",
    "    \"\"\"\n",
    "    Return a dictionary with labels as keys and indices as values.  Applied \n",
    "    to each section of the flow visualization (two nodes and an edge). The\n",
    "    `node_df` represents each section.\n",
    "    \"\"\"\n",
    "    labels = set(node_df.source).union(node_df.target)\n",
    "    sorted_labels = sorted(list(labels))\n",
    "    return {sorted_labels[i]: i + start_idx for i in range(len(sorted_labels))}\n",
    "\n",
    "\n",
    "def create_final_list(node_df, node_label_dict):\n",
    "    \"\"\"\n",
    "    Return a list of dictionaries and the labels for each section of the flow \n",
    "    diagram.\n",
    "    \"\"\"\n",
    "    df = pd.DataFrame({\n",
    "        \"source\": node_df.source.map(node_label_dict),\n",
    "        \"target\": node_df.target.map(node_label_dict),\n",
    "        \"value\" : node_df.value\n",
    "    })\n",
    "    \n",
    "    labels = list(node_label_dict.keys())\n",
    "    return df.to_dict(\"records\"), labels"
   ]
  },
  {
   "cell_type": "code",
   "execution_count": 3,
   "metadata": {},
   "outputs": [],
   "source": [
    "investor = pd.read_excel(\n",
    "    \"../data/Equity investor SUP matrix.xlsx\",\n",
    "    engine=\"openpyxl\",\n",
    "    skiprows=3,\n",
    "    usecols=\"B, E:GG\",\n",
    ")\n",
    "\n",
    "investor = investor.rename(columns={investor.columns[0]: \"Ultimate Investor\"})\n",
    "\n",
    "# drop last row because it is a table summary\n",
    "investor = investor[:-1]\n",
    "investor = investor.set_index('Ultimate Investor')"
   ]
  },
  {
   "cell_type": "code",
   "execution_count": 4,
   "metadata": {},
   "outputs": [],
   "source": [
    "financer = pd.read_excel(\n",
    "    \"../data/Financing SUP matrix.xlsx\",\n",
    "    engine=\"openpyxl\",\n",
    "    skiprows=4,\n",
    "    usecols=\"A:AV\",\n",
    ")\n",
    "\n",
    "# drop last row because it is null\n",
    "financer = financer[:-1]\n",
    "financer = financer.set_index('Bank')"
   ]
  },
  {
   "cell_type": "code",
   "execution_count": 5,
   "metadata": {},
   "outputs": [],
   "source": [
    "producer = pd.read_excel(\n",
    "    \"../data/MFA matrix.xlsx\",\n",
    "    sheet_name=\"Conversion\",\n",
    "    engine=\"openpyxl\",\n",
    "    skiprows=1,\n",
    "    usecols=\"C:FY\",\n",
    ").dropna()\n",
    "\n",
    "producer = producer.groupby('Producer').sum()"
   ]
  },
  {
   "cell_type": "code",
   "execution_count": 11,
   "metadata": {},
   "outputs": [],
   "source": [
    "waste = pd.read_excel(\n",
    "    \"../data/MFA matrix.xlsx\",\n",
    "    sheet_name=\"Waste\",\n",
    "    engine=\"openpyxl\",\n",
    "    skiprows=1,\n",
    "    usecols=\"B, D:FY\",\n",
    ").dropna()\n",
    "\n",
    "waste = waste.groupby('Country').sum()"
   ]
  },
  {
   "cell_type": "code",
   "execution_count": 43,
   "metadata": {},
   "outputs": [],
   "source": [
    "investor_df = create_sankey_df(investor)\n",
    "financer_df = create_sankey_df(financer)\n",
    "producer_df = create_sankey_df(producer)\n",
    "waste_df = create_sankey_df(waste)"
   ]
  },
  {
   "cell_type": "code",
   "execution_count": 51,
   "metadata": {},
   "outputs": [],
   "source": [
    "# Leaving off investor for now.  This will require a separate, single roll-up \n",
    "# JSON object for d3\n",
    "financer_label_dict = create_label_dict(financer_df)\n",
    "node1_max = max(financer_label_dict.values())\n",
    "\n",
    "producer_label_dict = create_label_dict(producer_df, start_idx=(node1_max+1))\n",
    "node2_max = max(producer_label_dict.values())\n",
    "\n",
    "waste_label_dict = create_label_dict(waste_df, start_idx=(node2_max+1))"
   ]
  },
  {
   "cell_type": "code",
   "execution_count": 52,
   "metadata": {},
   "outputs": [],
   "source": [
    "financer_dicts, financer_labels = create_final_list(financer_df, financer_label_dict)\n",
    "producer_dicts, producer_labels = create_final_list(producer_df, producer_label_dict)\n",
    "waste_dicts, waste_labels = create_final_list(waste_df, waste_label_dict)"
   ]
  },
  {
   "cell_type": "code",
   "execution_count": 56,
   "metadata": {},
   "outputs": [],
   "source": [
    "final_d3_object = {\n",
    "    \"links\": financer_dicts + producer_dicts + waste_dicts,\n",
    "    \"labels\": financer_labels + producer_labels + waste_labels\n",
    "}\n",
    "\n",
    "final_d3_object"
   ]
  }
 ],
 "metadata": {
  "kernelspec": {
   "display_name": "streamlitenv",
   "language": "python",
   "name": "streamlitenv"
  },
  "language_info": {
   "codemirror_mode": {
    "name": "ipython",
    "version": 3
   },
   "file_extension": ".py",
   "mimetype": "text/x-python",
   "name": "python",
   "nbconvert_exporter": "python",
   "pygments_lexer": "ipython3",
   "version": "3.7.6"
  }
 },
 "nbformat": 4,
 "nbformat_minor": 4
}
