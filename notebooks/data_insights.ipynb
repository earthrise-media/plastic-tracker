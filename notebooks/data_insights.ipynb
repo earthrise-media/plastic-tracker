{
 "cells": [
  {
   "cell_type": "code",
   "execution_count": null,
   "metadata": {},
   "outputs": [],
   "source": [
    "import json\n",
    "import pandas as pd\n",
    "import numpy as np\n",
    "import plotly.graph_objects as go\n",
    "import matplotlib.pyplot as plt\n",
    "import seaborn as sns"
   ]
  },
  {
   "cell_type": "code",
   "execution_count": null,
   "metadata": {},
   "outputs": [],
   "source": [
    "def filter_df(df, num_sources=None, num_targets=None):\n",
    "    \"\"\"\n",
    "    A function to filter the data frame by top n sources and targets\n",
    "    If num_sources or num_targets args are not supplied, they will not be filtered\n",
    "    \"\"\"\n",
    "    if num_targets:\n",
    "        top_targets = df.sum().sort_values(ascending=False)\n",
    "        df = df[top_targets[:num_targets].index]\n",
    "    \n",
    "    if num_sources:\n",
    "        top_sources = df.sum(axis=1).sort_values(ascending=False)[:num_sources]\n",
    "        df = df.loc[top_sources.index]\n",
    "    \n",
    "    return df\n",
    "\n",
    "\n",
    "def create_sankey_df(df, min_val=0):\n",
    "    \"\"\"\n",
    "    Create the human-readable form of the Sankey chart data from an input data frame\n",
    "    Data can be filtered by a threshold minimum value\n",
    "    | Source | Source Value | Target | Target Value |\n",
    "    |    A   |      5       |   i    |      3       |\n",
    "    |    A   |      5       |   j    |      2       |\n",
    "    |    B   |      7       |   i    |      1       |\n",
    "    |    B   |      7       |   k    |      4       |\n",
    "    \"\"\"\n",
    "    \n",
    "    sources = []\n",
    "    source_vals = []\n",
    "    targets = []\n",
    "    target_vals = []\n",
    "    for source_name in df.index:\n",
    "        row = df.loc[source_name]\n",
    "        sources += [source_name] * sum(row.values > min_val)\n",
    "        source_vals += [row[row.values > min_val].sum()] * sum(row.values > min_val)\n",
    "        targets += list(row[row > min_val].index)\n",
    "        target_vals += list(row[row > min_val].values)\n",
    "    \n",
    "    sankey_df = pd.DataFrame({\n",
    "        'source': sources,\n",
    "        'target': targets,\n",
    "        'value': target_vals\n",
    "    })\n",
    "    \n",
    "    return sankey_df\n",
    "\n",
    "\n",
    "def create_label_dict(node_df, start_idx=0):\n",
    "    \"\"\"\n",
    "    Return a dictionary with labels as keys and indices as values.  Applied \n",
    "    to each section of the flow visualization (two nodes and an edge). The\n",
    "    `node_df` represents each section.\n",
    "    \"\"\"\n",
    "    labels = set(node_df.source).union(node_df.target)\n",
    "    sorted_labels = sorted(list(labels))\n",
    "    return {sorted_labels[i]: i + start_idx for i in range(len(sorted_labels))}\n",
    "\n",
    "\n",
    "def create_final_list(node_df, node_label_dict):\n",
    "    \"\"\"\n",
    "    Return a list of dictionaries and the labels for each section of the flow \n",
    "    diagram.\n",
    "    \"\"\"\n",
    "    df = pd.DataFrame({\n",
    "        \"source\": node_df.source.map(node_label_dict),\n",
    "        \"target\": node_df.target.map(node_label_dict),\n",
    "        \"value\" : node_df.value\n",
    "    })\n",
    "    \n",
    "    labels = list(node_label_dict.keys())\n",
    "    return df.to_dict(\"records\"), labels"
   ]
  },
  {
   "cell_type": "code",
   "execution_count": null,
   "metadata": {},
   "outputs": [],
   "source": [
    "investor = pd.read_excel(\n",
    "    \"../data/Equity investor SUP matrix v2.xlsx\",\n",
    "    engine=\"openpyxl\",\n",
    "    skiprows=3,\n",
    "    usecols=\"B, G:GL\",\n",
    ")\n",
    "\n",
    "investor = investor.rename(columns={investor.columns[0]: \"Ultimate Investor\"})\n",
    "\n",
    "# drop last row because it is a table summary\n",
    "investor = investor[:-1]\n",
    "investor = investor.set_index('Ultimate Investor')\n",
    "\n",
    "# Set the value of Kingdom of Saudi Arabia investment in Saudi Arabian Oil company to equal\n",
    "# the second largest investment\n",
    "investor.loc['KINGDOM OF SAUDI ARABIA', ('Saudi Arabian Oil Co')] = investor.max(axis=0).sort_values(ascending=False)[1]"
   ]
  },
  {
   "cell_type": "code",
   "execution_count": null,
   "metadata": {},
   "outputs": [],
   "source": [
    "financer = pd.read_excel(\n",
    "    \"../data/Financing SUP matrix v2.xlsx\",\n",
    "    engine=\"openpyxl\",\n",
    "    skiprows=4,\n",
    "    usecols=\"A:AV\",\n",
    ")\n",
    "\n",
    "# drop last row because it is null\n",
    "financer = financer[:-1]\n",
    "financer = financer.set_index('Banks')"
   ]
  },
  {
   "cell_type": "code",
   "execution_count": null,
   "metadata": {},
   "outputs": [],
   "source": [
    "producer = pd.read_excel(\n",
    "    \"../data/MFA matrix v2.xlsx\",\n",
    "    #sheet_name=\"Conversion\",\n",
    "    engine=\"openpyxl\",\n",
    "    skiprows=1,\n",
    "    usecols=\"C:FY\",\n",
    ").dropna()\n",
    "\n",
    "producer = producer.groupby('Producer').sum()"
   ]
  },
  {
   "cell_type": "code",
   "execution_count": null,
   "metadata": {},
   "outputs": [],
   "source": [
    "waste = pd.read_excel(\n",
    "    \"../data/MFA matrix v2.xlsx\",\n",
    "    #sheet_name=\"Waste\",\n",
    "    engine=\"openpyxl\",\n",
    "    skiprows=1,\n",
    "    usecols=\"B, D:FY\",\n",
    ").dropna()\n",
    "\n",
    "waste = waste.groupby('Country').sum()"
   ]
  },
  {
   "cell_type": "code",
   "execution_count": null,
   "metadata": {},
   "outputs": [],
   "source": [
    "destination = pd.read_excel(\n",
    "    \"../data/MFA matrix.xlsx\",\n",
    "    sheet_name=\"Waste\",\n",
    "    engine=\"openpyxl\",\n",
    "    skiprows=1,\n",
    "    usecols=\"C:FY\",\n",
    ").dropna()\n",
    "\n",
    "destination = destination.groupby('Producer').sum()"
   ]
  },
  {
   "cell_type": "code",
   "execution_count": null,
   "metadata": {},
   "outputs": [],
   "source": [
    "investor_df = create_sankey_df(investor)\n",
    "financer_df = create_sankey_df(financer)\n",
    "producer_df = create_sankey_df(producer)\n",
    "waste_df = create_sankey_df(waste)\n",
    "destination_df = create_sankey_df(destination)"
   ]
  },
  {
   "cell_type": "code",
   "execution_count": null,
   "metadata": {},
   "outputs": [],
   "source": [
    "with open('../data/region_map.json', 'r') as f:\n",
    "    region_dict = json.load(f)\n",
    "country_to_region = { country['name']: country['region'] for country in region_dict }"
   ]
  },
  {
   "cell_type": "code",
   "execution_count": null,
   "metadata": {},
   "outputs": [],
   "source": [
    "# Assign regions to countries\n",
    "region = [country_to_region[country] for country in destination_df['target']]\n",
    "destination_df['region'] = region\n",
    "destination_df.head()"
   ]
  },
  {
   "cell_type": "markdown",
   "metadata": {},
   "source": [
    "# Top Producer Bar Plot"
   ]
  },
  {
   "cell_type": "code",
   "execution_count": null,
   "metadata": {},
   "outputs": [],
   "source": [
    "plt.figure(figsize=(4,3), dpi=150, facecolor=(1,1,1))\n",
    "country_sum = destination_df.groupby('target').sum().sort_values(by='value', ascending=False)[:11].reset_index()\n",
    "country_sum['percentage'] = country_sum['value'] /  destination_df.groupby('target').sum()['value'].sum() * 100\n",
    "sns.barplot(x='target', y='percentage', data=country_sum)\n",
    "plt.xticks(rotation=45, ha='right')\n",
    "plt.ylabel('Global Plastics %')\n",
    "plt.xlabel('')\n",
    "plt.title('Percentage of Global Plastics Destination')\n",
    "plt.show()"
   ]
  },
  {
   "cell_type": "markdown",
   "metadata": {},
   "source": [
    "# Number of Export Countries for Top Producers\n",
    "Top producers send plastics everywhere"
   ]
  },
  {
   "cell_type": "code",
   "execution_count": null,
   "metadata": {},
   "outputs": [],
   "source": [
    "top_producers = list(destination_df.groupby('source').sum().sort_values(by='value', ascending=False).iloc[:11].index)"
   ]
  },
  {
   "cell_type": "code",
   "execution_count": null,
   "metadata": {},
   "outputs": [],
   "source": [
    "num_countries = []\n",
    "for producer in top_producers:\n",
    "    num_countries.append(len(destination_df[destination_df['source'] == producer]))"
   ]
  },
  {
   "cell_type": "code",
   "execution_count": null,
   "metadata": {},
   "outputs": [],
   "source": [
    "plt.figure(figsize=(4,3), dpi=150, facecolor=(1,1,1))\n",
    "sns.barplot(x=top_producers, y=num_countries, color='C0')\n",
    "plt.xticks(rotation=45, ha='right')\n",
    "plt.xlabel('')\n",
    "plt.title('Number of Countries of Export for Top Producers')\n",
    "plt.ylabel('Number of Countries')\n",
    "plt.show()"
   ]
  },
  {
   "cell_type": "markdown",
   "metadata": {},
   "source": [
    "# Histogram of Number of Export Countries\n",
    "Most producers send plastics indiscriminately across the globe"
   ]
  },
  {
   "cell_type": "code",
   "execution_count": null,
   "metadata": {},
   "outputs": [],
   "source": [
    "top_producers = list(destination_df.groupby('source').sum().sort_values(by='value', ascending=False).index)\n",
    "num_countries = []\n",
    "for producer in top_producers:\n",
    "    num_countries.append(len(destination_df[destination_df['source'] == producer]))"
   ]
  },
  {
   "cell_type": "code",
   "execution_count": null,
   "metadata": {},
   "outputs": [],
   "source": [
    "plt.figure(figsize=(4,3), dpi=150, facecolor=(1,1,1))\n",
    "sns.histplot(num_countries, bins=20, stat='probability')\n",
    "plt.xlim([60, 145])\n",
    "plt.xlabel('Number of Countries')\n",
    "plt.ylabel('Fraction of Producers')\n",
    "plt.title('Number of Export Countries')\n",
    "plt.show()"
   ]
  },
  {
   "cell_type": "markdown",
   "metadata": {},
   "source": [
    "# Per-Capita Plastics"
   ]
  },
  {
   "cell_type": "code",
   "execution_count": null,
   "metadata": {},
   "outputs": [],
   "source": [
    "with open('../data/country_population.json', 'r') as f:\n",
    "    population = json.load(f)\n",
    "\n",
    "pop_countries = np.array([element['country'] for element in population])\n",
    "populations = np.array([element['population'] for element in population])"
   ]
  },
  {
   "cell_type": "code",
   "execution_count": null,
   "metadata": {},
   "outputs": [],
   "source": [
    "# Assign population to countries\n",
    "country_total = destination_df.groupby('target').sum()\n",
    "country_total['population'] = [np.squeeze(populations[pop_countries == country]) for country in country_total.index]\n",
    "country_total['per capita'] = country_total['value'] / country_total['population'] * 1000000\n",
    "country_total = country_total.sort_values(by='per capita', ascending = False)"
   ]
  },
  {
   "cell_type": "code",
   "execution_count": null,
   "metadata": {},
   "outputs": [],
   "source": [
    "plt.figure(figsize=(4,3), dpi=150, facecolor=(1,1,1))\n",
    "sns.barplot(x=country_total.index[:13], y=country_total['per capita'][:13])\n",
    "plt.xticks(rotation=45, ha='right')\n",
    "plt.ylabel('Kilograms of Plastic per Person')\n",
    "plt.xlabel('')\n",
    "plt.title('Countries with Highest Yearly Per Capita Plastics Use')\n",
    "plt.show()"
   ]
  },
  {
   "cell_type": "markdown",
   "metadata": {},
   "source": [
    "# Distribution of Per-Capita Plastics Use by Country\n",
    "Most countries don't use that much plastic per person"
   ]
  },
  {
   "cell_type": "code",
   "execution_count": null,
   "metadata": {},
   "outputs": [],
   "source": [
    "plt.figure(figsize=(4,3), dpi=150, facecolor=(1,1,1))\n",
    "sns.histplot(data=country_total, x='per capita', bins=30)\n",
    "plt.ylabel('Number of Countries')\n",
    "plt.xlabel('Yearly Per-Capita Plastics Use (kg)')\n",
    "plt.title('Distribution of Yearly Per-Capita Plastics Use')\n",
    "plt.show()"
   ]
  },
  {
   "cell_type": "markdown",
   "metadata": {},
   "source": [
    "# Fast Facts"
   ]
  },
  {
   "cell_type": "code",
   "execution_count": null,
   "metadata": {},
   "outputs": [],
   "source": [
    "# Top plastics destinations\n",
    "top_n = 20\n",
    "country_sum = destination_df.groupby('target').sum().sort_values(by='value', ascending=False)[:top_n].reset_index()\n",
    "country_sum['percentage'] = country_sum['value'] /  destination_df.groupby('target').sum()['value'].sum()\n",
    "country_sum.loc[top_n] = {\n",
    "    'target': 'Other',\n",
    "    'value': destination_df.groupby('target').sum()['value'].sum() - country_sum['value'].sum(),\n",
    "    'percentage': (destination_df.groupby('target').sum()['value'].sum() - country_sum['value'].sum()) / destination_df.groupby('target').sum()['value'].sum()\n",
    "                   }\n",
    "print(\"Top Plastics Destinations\")\n",
    "country_sum"
   ]
  },
  {
   "cell_type": "code",
   "execution_count": null,
   "metadata": {},
   "outputs": [],
   "source": [
    "#Plastics Use per Person per Year\n",
    "country_total = country_total.sort_values(by='per capita', ascending = False)\n",
    "print(\"Plastics Use per Person per Year\")\n",
    "country_total[:20]"
   ]
  },
  {
   "cell_type": "code",
   "execution_count": null,
   "metadata": {},
   "outputs": [],
   "source": [
    "# Top producers\n",
    "top_producer_df = destination_df.groupby('source').sum().sort_values(by='value', ascending=False)\n",
    "top_producer_df['percentage'] = top_producer_df['value'] / top_producer_df['value'].sum()\n",
    "top_producer_df['value'].sum()"
   ]
  },
  {
   "cell_type": "code",
   "execution_count": null,
   "metadata": {},
   "outputs": [],
   "source": [
    "country_total.sort_values(by='value', ascending = False)"
   ]
  }
 ],
 "metadata": {
  "kernelspec": {
   "display_name": "Python 3",
   "language": "python",
   "name": "python3"
  },
  "language_info": {
   "codemirror_mode": {
    "name": "ipython",
    "version": 3
   },
   "file_extension": ".py",
   "mimetype": "text/x-python",
   "name": "python",
   "nbconvert_exporter": "python",
   "pygments_lexer": "ipython3",
   "version": "3.6.5"
  }
 },
 "nbformat": 4,
 "nbformat_minor": 4
}
