{
 "cells": [
  {
   "cell_type": "markdown",
   "metadata": {},
   "source": [
    "# PPI Flow Viz - Node 2-3\n",
    "\n",
    "### Source: Producer\n",
    "Value = total volume of polymers bound for single-use plastic applications, by producer\n",
    "MFA matrix, ‘Conversion’ tab: sum of all identical ‘Producer’ entries (Column C) x ‘checksum’ (Column FZ)\n",
    "\n",
    "\n",
    "### Edge\n",
    "Value = volume of polymers bound for single-use plastic applications, by producer and country of production\n",
    "MFA matrix, ‘Conversion’ tab: unique ’Country’ (Column B)/‘Producer’ (Column C) combinations x ‘checksum’ (Column FZ)\n",
    "\n",
    "\n",
    "### Sink: Country of Production\n",
    "\n",
    "Value = volume of polymers bound for single-use plastic applications, by country of production\n",
    "MFA matrix, ‘Conversion’ tab: sum of all identical ’Country’ entries (Column B) x ‘checksum’ (Column FZ)"
   ]
  },
  {
   "cell_type": "code",
   "execution_count": null,
   "metadata": {},
   "outputs": [],
   "source": [
    "import pandas as pd\n",
    "import numpy as np\n",
    "import plotly.graph_objects as go"
   ]
  },
  {
   "cell_type": "markdown",
   "metadata": {},
   "source": [
    "## Load data\n",
    "\n",
    "For the Sankey creation function, the data must be list the sources as the dataframe index, and the targets as the dataframe columns"
   ]
  },
  {
   "cell_type": "code",
   "execution_count": null,
   "metadata": {},
   "outputs": [],
   "source": [
    "producer = pd.read_excel(\n",
    "    \"../data/MFA matrix.xlsx\",\n",
    "    sheet_name=\"Conversion\",\n",
    "    engine=\"openpyxl\",\n",
    "    skiprows=1,\n",
    "    usecols=\"C:FY\",\n",
    ").dropna()\n",
    "\n",
    "producer = producer.groupby('Producer').sum()\n",
    "print(\"Producer Dataframe\")\n",
    "producer.head()"
   ]
  },
  {
   "cell_type": "markdown",
   "metadata": {},
   "source": [
    "## Create the source -> target structure"
   ]
  },
  {
   "cell_type": "code",
   "execution_count": null,
   "metadata": {},
   "outputs": [],
   "source": [
    "def filter_df(df, num_sources=None, num_targets=None):\n",
    "    \"\"\"\n",
    "    A function to filter the data frame by top n sources and targets\n",
    "    If num_sources or num_targets args are not supplied, they will not be filtered\n",
    "    \"\"\"\n",
    "    if num_targets:\n",
    "        top_targets = df.sum().sort_values(ascending=False)\n",
    "        df = df[top_targets[:num_targets].index]\n",
    "    \n",
    "    if num_sources:\n",
    "        top_sources = df.sum(axis=1).sort_values(ascending=False)[:num_sources]\n",
    "        df = df.loc[top_sources.index]\n",
    "    \n",
    "    return df\n",
    "\n",
    "def create_sankey_df(df, min_val=0):\n",
    "    \"\"\"\n",
    "    Create the human-readable form of the Sankey chart data from an input data frame\n",
    "    Data can be filtered by a threshold minimum value\n",
    "    | Source | Source Value | Target | Target Value |\n",
    "    |    A   |      5       |   i    |      3       |\n",
    "    |    A   |      5       |   j    |      2       |\n",
    "    |    B   |      7       |   i    |      1       |\n",
    "    |    B   |      7       |   k    |      4       |\n",
    "    \"\"\"\n",
    "    \n",
    "    sources = []\n",
    "    source_vals = []\n",
    "    targets = []\n",
    "    target_vals = []\n",
    "    for source_name in df.index:\n",
    "        row = df.loc[source_name]\n",
    "        sources += [source_name] * sum(row.values > min_val)\n",
    "        source_vals += [row[row.values > min_val].sum()] * sum(row.values > min_val)\n",
    "        targets += list(row[row > min_val].index)\n",
    "        target_vals += list(row[row > min_val].values)\n",
    "    \n",
    "    sankey_df = pd.DataFrame({\n",
    "        'source': sources,\n",
    "        'source_value': source_vals,\n",
    "        'target': targets,\n",
    "        'target_value': target_vals\n",
    "    })\n",
    "    \n",
    "    return sankey_df\n",
    "\n",
    "def create_sankey_dict(sankey_df):\n",
    "    \"\"\"\n",
    "    Plotly requires that each source and target be converted to a numerical index\n",
    "    This index also points to an entry in the labels file\n",
    "    As a convention that I think will be useful, indices for a target build off of\n",
    "    the last value in the preceding column's indices\n",
    "    \"\"\"\n",
    "    source_nodes = sorted(sankey_df.source.unique())\n",
    "    source_node_dict = {source_nodes[i]: i for i in range(len(source_nodes))}\n",
    "\n",
    "    target_nodes = sorted(sankey_df.target.unique())\n",
    "    target_node_dict = {target_nodes[i]: i + max(source_node_dict.values()) + 1 for i in range(len(target_nodes))}\n",
    "    \n",
    "    source_indices = list(sankey_df.source.map(source_node_dict).values)\n",
    "    source_values  = list(sankey_df.source_value)\n",
    "    target_indices = list(sankey_df.target.map(target_node_dict).values)\n",
    "    target_values  = list(sankey_df.target_value)\n",
    "    \n",
    "    sankey_dict = {\n",
    "        'source_labels': source_nodes,\n",
    "        'source': source_indices,\n",
    "        'source_values': source_values,\n",
    "        'target_labels': target_nodes,\n",
    "        'target': target_indices,\n",
    "        'target_values': target_values\n",
    "    }\n",
    "    \n",
    "    return sankey_dict\n",
    "\n",
    "def plot_sankey(sankey_dict, title):\n",
    "    \"\"\"Plot a Sankey diagram. By default, line height is given by the target values\"\"\"\n",
    "    fig = go.Figure(data=[go.Sankey(\n",
    "        node = dict(\n",
    "          pad = 15,\n",
    "          thickness = 20,\n",
    "          line = dict(color = \"black\", width = 0.5),\n",
    "          label = sankey_dict['source_labels'] + sankey_dict['target_labels'],\n",
    "          color = \"black\"\n",
    "        ),\n",
    "        link = dict(\n",
    "          source = sankey_dict['source'],\n",
    "          target = sankey_dict['target'],\n",
    "          value  = sankey_dict['target_values']\n",
    "      ))])\n",
    "\n",
    "    fig.update_layout(title_text=title, font_size=10)\n",
    "    return fig"
   ]
  },
  {
   "cell_type": "markdown",
   "metadata": {},
   "source": [
    "## Create Producer -> Country Sankey"
   ]
  },
  {
   "cell_type": "code",
   "execution_count": null,
   "metadata": {},
   "outputs": [],
   "source": [
    "filtered_df = filter_df(producer, num_sources=10, num_targets=15)"
   ]
  },
  {
   "cell_type": "code",
   "execution_count": null,
   "metadata": {},
   "outputs": [],
   "source": [
    "sankey_df = create_sankey_df(filtered_df, min_val=100)\n",
    "sankey_df.head()"
   ]
  },
  {
   "cell_type": "code",
   "execution_count": null,
   "metadata": {},
   "outputs": [],
   "source": [
    "sankey_dict = create_sankey_dict(sankey_df)"
   ]
  },
  {
   "cell_type": "code",
   "execution_count": null,
   "metadata": {},
   "outputs": [],
   "source": [
    "sankey_plot = plot_sankey(sankey_dict, 'Producer by Country of Production')\n",
    "sankey_plot.show()"
   ]
  },
  {
   "cell_type": "code",
   "execution_count": null,
   "metadata": {},
   "outputs": [],
   "source": []
  }
 ],
 "metadata": {
  "kernelspec": {
   "display_name": "Python 3",
   "language": "python",
   "name": "python3"
  },
  "language_info": {
   "codemirror_mode": {
    "name": "ipython",
    "version": 3
   },
   "file_extension": ".py",
   "mimetype": "text/x-python",
   "name": "python",
   "nbconvert_exporter": "python",
   "pygments_lexer": "ipython3",
   "version": "3.6.5"
  }
 },
 "nbformat": 4,
 "nbformat_minor": 4
}
