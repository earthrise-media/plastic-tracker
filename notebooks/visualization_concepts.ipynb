{
 "cells": [
  {
   "cell_type": "code",
   "execution_count": null,
   "metadata": {},
   "outputs": [],
   "source": [
    "import json\n",
    "import pandas as pd\n",
    "import numpy as np\n",
    "import plotly.graph_objects as go"
   ]
  },
  {
   "cell_type": "code",
   "execution_count": null,
   "metadata": {},
   "outputs": [],
   "source": [
    "def filter_df(df, num_sources=None, num_targets=None):\n",
    "    \"\"\"\n",
    "    A function to filter the data frame by top n sources and targets\n",
    "    If num_sources or num_targets args are not supplied, they will not be filtered\n",
    "    \"\"\"\n",
    "    if num_targets:\n",
    "        top_targets = df.sum().sort_values(ascending=False)\n",
    "        df = df[top_targets[:num_targets].index]\n",
    "    \n",
    "    if num_sources:\n",
    "        top_sources = df.sum(axis=1).sort_values(ascending=False)[:num_sources]\n",
    "        df = df.loc[top_sources.index]\n",
    "    \n",
    "    return df\n",
    "\n",
    "\n",
    "def create_sankey_df(df, min_val=0):\n",
    "    \"\"\"\n",
    "    Create the human-readable form of the Sankey chart data from an input data frame\n",
    "    Data can be filtered by a threshold minimum value\n",
    "    | Source | Source Value | Target | Target Value |\n",
    "    |    A   |      5       |   i    |      3       |\n",
    "    |    A   |      5       |   j    |      2       |\n",
    "    |    B   |      7       |   i    |      1       |\n",
    "    |    B   |      7       |   k    |      4       |\n",
    "    \"\"\"\n",
    "    \n",
    "    sources = []\n",
    "    source_vals = []\n",
    "    targets = []\n",
    "    target_vals = []\n",
    "    for source_name in df.index:\n",
    "        row = df.loc[source_name]\n",
    "        sources += [source_name] * sum(row.values > min_val)\n",
    "        source_vals += [row[row.values > min_val].sum()] * sum(row.values > min_val)\n",
    "        targets += list(row[row > min_val].index)\n",
    "        target_vals += list(row[row > min_val].values)\n",
    "    \n",
    "    sankey_df = pd.DataFrame({\n",
    "        'source': sources,\n",
    "        'target': targets,\n",
    "        'value': target_vals\n",
    "    })\n",
    "    \n",
    "    return sankey_df\n",
    "\n",
    "\n",
    "def create_label_dict(node_df, start_idx=0):\n",
    "    \"\"\"\n",
    "    Return a dictionary with labels as keys and indices as values.  Applied \n",
    "    to each section of the flow visualization (two nodes and an edge). The\n",
    "    `node_df` represents each section.\n",
    "    \"\"\"\n",
    "    labels = set(node_df.source).union(node_df.target)\n",
    "    sorted_labels = sorted(list(labels))\n",
    "    return {sorted_labels[i]: i + start_idx for i in range(len(sorted_labels))}\n",
    "\n",
    "\n",
    "def create_final_list(node_df, node_label_dict):\n",
    "    \"\"\"\n",
    "    Return a list of dictionaries and the labels for each section of the flow \n",
    "    diagram.\n",
    "    \"\"\"\n",
    "    df = pd.DataFrame({\n",
    "        \"source\": node_df.source.map(node_label_dict),\n",
    "        \"target\": node_df.target.map(node_label_dict),\n",
    "        \"value\" : node_df.value\n",
    "    })\n",
    "    \n",
    "    labels = list(node_label_dict.keys())\n",
    "    return df.to_dict(\"records\"), labels"
   ]
  },
  {
   "cell_type": "code",
   "execution_count": null,
   "metadata": {},
   "outputs": [],
   "source": [
    "investor = pd.read_excel(\n",
    "    \"../data/Equity investor SUP matrix.xlsx\",\n",
    "    engine=\"openpyxl\",\n",
    "    skiprows=3,\n",
    "    usecols=\"B, E:GG\",\n",
    ")\n",
    "\n",
    "investor = investor.rename(columns={investor.columns[0]: \"Ultimate Investor\"})\n",
    "\n",
    "# drop last row because it is a table summary\n",
    "investor = investor[:-1]\n",
    "investor = investor.set_index('Ultimate Investor')\n",
    "\n",
    "# Set the value of Kingdom of Saudi Arabia investment in Saudi Arabian Oil company to equal\n",
    "# the second largest investment\n",
    "investor.loc['KINGDOM OF SAUDI ARABIA', ('Saudi Arabian Oil Co')] = investor.max(axis=0).sort_values(ascending=False)[1]"
   ]
  },
  {
   "cell_type": "code",
   "execution_count": null,
   "metadata": {},
   "outputs": [],
   "source": [
    "financer = pd.read_excel(\n",
    "    \"../data/Financing SUP matrix.xlsx\",\n",
    "    engine=\"openpyxl\",\n",
    "    skiprows=4,\n",
    "    usecols=\"A:AV\",\n",
    ")\n",
    "\n",
    "# drop last row because it is null\n",
    "financer = financer[:-1]\n",
    "financer = financer.set_index('Bank')"
   ]
  },
  {
   "cell_type": "code",
   "execution_count": null,
   "metadata": {},
   "outputs": [],
   "source": [
    "producer = pd.read_excel(\n",
    "    \"../data/MFA matrix.xlsx\",\n",
    "    sheet_name=\"Conversion\",\n",
    "    engine=\"openpyxl\",\n",
    "    skiprows=1,\n",
    "    usecols=\"C:FY\",\n",
    ").dropna()\n",
    "\n",
    "producer = producer.groupby('Producer').sum()"
   ]
  },
  {
   "cell_type": "code",
   "execution_count": null,
   "metadata": {},
   "outputs": [],
   "source": [
    "waste = pd.read_excel(\n",
    "    \"../data/MFA matrix.xlsx\",\n",
    "    sheet_name=\"Waste\",\n",
    "    engine=\"openpyxl\",\n",
    "    skiprows=1,\n",
    "    usecols=\"B, D:FY\",\n",
    ").dropna()\n",
    "\n",
    "waste = waste.groupby('Country').sum()"
   ]
  },
  {
   "cell_type": "code",
   "execution_count": null,
   "metadata": {},
   "outputs": [],
   "source": [
    "destination = pd.read_excel(\n",
    "    \"../data/MFA matrix.xlsx\",\n",
    "    sheet_name=\"Waste\",\n",
    "    engine=\"openpyxl\",\n",
    "    skiprows=1,\n",
    "    usecols=\"C:FY\",\n",
    ").dropna()\n",
    "\n",
    "destination = destination.groupby('Producer').sum()"
   ]
  },
  {
   "cell_type": "code",
   "execution_count": null,
   "metadata": {},
   "outputs": [],
   "source": [
    "investor_df = create_sankey_df(investor)\n",
    "financer_df = create_sankey_df(financer)\n",
    "producer_df = create_sankey_df(producer)\n",
    "waste_df = create_sankey_df(waste)\n",
    "destination_df = create_sankey_df(destination)"
   ]
  },
  {
   "cell_type": "markdown",
   "metadata": {},
   "source": [
    "## Circle Packing Diagram - Investor"
   ]
  },
  {
   "cell_type": "code",
   "execution_count": null,
   "metadata": {},
   "outputs": [],
   "source": [
    "import circlify as circ\n",
    "num_circles = len(investor_df.groupby('source').sum())\n",
    "circles = circ.circlify(list(investor_df.groupby('source').sum().sort_values(by='value', ascending=True)['value'])[:num_circles], show_enclosure=False)"
   ]
  },
  {
   "cell_type": "code",
   "execution_count": null,
   "metadata": {},
   "outputs": [],
   "source": [
    "num_labels = 0\n",
    "labels = [''] * (num_circles - num_labels)\n",
    "top_labels = list(investor_df.groupby('source').sum().sort_values(by='value', ascending=True).index[:num_labels])\n",
    "labels += top_labels[::-1]\n",
    "circ.bubbles(circles, labels)"
   ]
  },
  {
   "cell_type": "code",
   "execution_count": null,
   "metadata": {},
   "outputs": [],
   "source": [
    "# Countries of impact\n",
    "num_circles = len(df.groupby('target').sum())\n",
    "country_sum = df.groupby('target').sum().sort_values(by='value', ascending=False)[:num_circles].reset_index()\n",
    "country_sum['percentage'] = country_sum['value'] / country_sum['value'].sum() * 100\n",
    "circles = circ.circlify(list(country_sum['percentage']))\n",
    "\n",
    "num_labels = 10\n",
    "labels = [''] * (num_circles - num_labels)\n",
    "top_labels = list(country_sum['target'][:num_labels])[::-1]\n",
    "labels += top_labels\n",
    "circ.bubbles(circles, labels=labels)"
   ]
  },
  {
   "cell_type": "markdown",
   "metadata": {},
   "source": [
    "## Treemap Viz"
   ]
  },
  {
   "cell_type": "code",
   "execution_count": null,
   "metadata": {},
   "outputs": [],
   "source": [
    "investor_df_mod = destination_df.copy()\n",
    "for index in range(len(investor_df_mod)):\n",
    "    investor_df_mod.loc[index, 'target'] += '_' + str(index)"
   ]
  },
  {
   "cell_type": "code",
   "execution_count": null,
   "metadata": {},
   "outputs": [],
   "source": [
    "unique_investors = list(investor_df_mod['source'].unique())\n",
    "labels = [''] + unique_investors + list(investor_df_mod['target'])\n",
    "\n",
    "investor_parents = [''] * len(unique_investors)\n",
    "parents = [''] + investor_parents + list(investor_df_mod['source'])\n",
    "\n",
    "total = [investor_df_mod[investor_df_mod['source'] == investor].sum()['value'] for investor in unique_investors]\n",
    "values = [investor_df_mod['value'].sum()] + total + list(investor_df_mod['value'])"
   ]
  },
  {
   "cell_type": "code",
   "execution_count": null,
   "metadata": {},
   "outputs": [],
   "source": [
    "import plotly.graph_objects as go\n",
    "\n",
    "fig = go.Figure(go.Treemap(\n",
    "    branchvalues = \"total\",\n",
    "    labels = labels,\n",
    "    values = values,\n",
    "    parents = parents,\n",
    "    #marker_colorscale = 'Blues'\n",
    "    #marker_colors = ['white'] * len(list(investor_df['source'][:num_investors])) + ['lightgray'] * len(list(investor_df['source'][:num_investors].unique()))\n",
    "))\n",
    "\n",
    "fig.update_layout(\n",
    "    title_text=\"Financers of Plastics Producers\", \n",
    "    font_size=12,\n",
    "    autosize=False,\n",
    "    width=1500,\n",
    "    height=1500,\n",
    "    #uniformtext=dict(minsize=8, mode='hide'),\n",
    "    treemapcolorway = ['#c9c3bc'] * len(values)\n",
    "    #treemapcolorway = ['#F1D26D'] * len(values)\n",
    ")\n",
    "fig.write_html('../docs/destination_treemap.html', include_plotlyjs='cdn')\n",
    "fig.show()"
   ]
  },
  {
   "cell_type": "markdown",
   "metadata": {},
   "source": [
    "## Make a regional treemap"
   ]
  },
  {
   "cell_type": "code",
   "execution_count": null,
   "metadata": {},
   "outputs": [],
   "source": [
    "with open('../data/region_map.json', 'r') as f:\n",
    "    region_dict = json.load(f)\n",
    "country_to_region = { country['name']: country['region'] for country in region_dict }"
   ]
  },
  {
   "cell_type": "code",
   "execution_count": null,
   "metadata": {},
   "outputs": [],
   "source": [
    "# Assign regions to countries\n",
    "df = destination_df.copy()\n",
    "region = [country_to_region[country] for country in df['target']]\n",
    "df['region'] = region\n",
    "df.head()"
   ]
  },
  {
   "cell_type": "markdown",
   "metadata": {},
   "source": [
    "### Producers as regional subset"
   ]
  },
  {
   "cell_type": "code",
   "execution_count": null,
   "metadata": {},
   "outputs": [],
   "source": [
    "regional_df = df.groupby(['region', 'source']).sum()\n",
    "unique_regions = list(regional_df.index.get_level_values('region').unique())\n",
    "region_list = []\n",
    "producer_list = []\n",
    "values_list = list(regional_df['value'])\n",
    "for region in unique_regions: \n",
    "    regional_producers = regional_df.loc[region].index\n",
    "    for producer in regional_producers:\n",
    "        region_list.append(region)\n",
    "        producer_list.append(producer + ' - ' + region)"
   ]
  },
  {
   "cell_type": "code",
   "execution_count": null,
   "metadata": {},
   "outputs": [],
   "source": [
    "labels = [''] + unique_regions + producer_list\n",
    "\n",
    "parent_group = [''] * len(unique_regions)\n",
    "parents = [''] + parent_group + region_list\n",
    "\n",
    "parent_total = list(df.groupby('region').sum()['value'])\n",
    "values = [sum(parent_total)] + parent_total + values_list"
   ]
  },
  {
   "cell_type": "code",
   "execution_count": null,
   "metadata": {},
   "outputs": [],
   "source": [
    "import plotly.graph_objects as go\n",
    "\n",
    "# Colors from https://coolors.co/3c905f-f4b393-fc60a8-8acdea-2d728f\n",
    "color_array = [\"#3c905f\",\"#f4b393\",\"#fc60a8\",\"#8acdea\",\"#2d728f\"]\n",
    "\n",
    "fig = go.Figure(go.Treemap(\n",
    "    branchvalues = \"total\",\n",
    "    labels = labels,\n",
    "    values = values,\n",
    "    parents = parents,\n",
    "    #marker_colorscale = 'Blues'\n",
    "    #marker_colors = ['white'] * len(list(investor_df['source'][:num_investors])) + ['lightgray'] * len(list(investor_df['source'][:num_investors].unique()))\n",
    "))\n",
    "\n",
    "fig.update_layout(\n",
    "    title_text=\"Volume of Plastics by Region and Producer\", \n",
    "    font_size=12,\n",
    "    autosize=False,\n",
    "    width=400,\n",
    "    height=1500,\n",
    "    uniformtext=dict(minsize=8, mode='hide'),\n",
    "    #treemapcolorway = ['#c9c3bc'] * len(values)\n",
    "    treemapcolorway = color_array\n",
    "    #treemapcolorway = ['#F1D26D'] * len(values)\n",
    ")\n",
    "fig.write_html('../docs/region_treemap-tall.html', include_plotlyjs='cdn')\n",
    "fig.show()"
   ]
  },
  {
   "cell_type": "markdown",
   "metadata": {},
   "source": [
    "### Countries as regional subset"
   ]
  },
  {
   "cell_type": "code",
   "execution_count": null,
   "metadata": {},
   "outputs": [],
   "source": [
    "regional_df = df.groupby(['region', 'target']).sum()\n",
    "unique_regions = list(regional_df.index.get_level_values('region').unique())\n",
    "region_list = []\n",
    "country_list = list(regional_df.index.get_level_values(1))\n",
    "values_list = list(regional_df['value'])\n",
    "for region in unique_regions: \n",
    "    country = regional_df.loc[region].index\n",
    "    for value in country:\n",
    "        region_list.append(region)"
   ]
  },
  {
   "cell_type": "code",
   "execution_count": null,
   "metadata": {},
   "outputs": [],
   "source": [
    "labels = [''] + unique_regions + country_list\n",
    "\n",
    "parent_group = [''] * len(unique_regions)\n",
    "parents = [''] + parent_group + region_list\n",
    "\n",
    "parent_total = list(df.groupby('region').sum()['value'])\n",
    "values = [sum(parent_total)] + parent_total + values_list"
   ]
  },
  {
   "cell_type": "code",
   "execution_count": null,
   "metadata": {},
   "outputs": [],
   "source": [
    "import plotly.graph_objects as go\n",
    "\n",
    "# Colors from https://coolors.co/3c905f-f4b393-fc60a8-8acdea-2d728f\n",
    "color_array = [\"#3c905f\",\"#f4b393\",\"#fc60a8\",\"#8acdea\",\"#2d728f\"]\n",
    "\n",
    "fig = go.Figure(go.Treemap(\n",
    "    branchvalues = \"total\",\n",
    "    labels = labels,\n",
    "    values = values,\n",
    "    parents = parents,\n",
    "    #marker_colorscale = 'Blues'\n",
    "    #marker_colors = ['white'] * len(list(investor_df['source'][:num_investors])) + ['lightgray'] * len(list(investor_df['source'][:num_investors].unique()))\n",
    "))\n",
    "\n",
    "fig.update_layout(\n",
    "    title_text=\"Volume of Plastics by Region and Country\", \n",
    "    font_size=12,\n",
    "    autosize=False,\n",
    "    width=750,\n",
    "    height=750,\n",
    "    uniformtext=dict(minsize=8, mode='hide'),\n",
    "    #treemapcolorway = ['#c9c3bc'] * len(values)\n",
    "    treemapcolorway = color_array\n",
    "    #treemapcolorway = ['#F1D26D'] * len(values)\n",
    ")\n",
    "fig.write_html('../docs/region_country_treemap.html', include_plotlyjs='cdn')\n",
    "fig.show()"
   ]
  },
  {
   "cell_type": "markdown",
   "metadata": {},
   "source": [
    "### Region, Country, Producer Treemap"
   ]
  },
  {
   "cell_type": "code",
   "execution_count": null,
   "metadata": {},
   "outputs": [],
   "source": [
    "regional_df = df.groupby(['region', 'target']).sum()\n",
    "unique_regions = list(regional_df.index.get_level_values('region').unique())\n",
    "region_list = []\n",
    "country_list = list(regional_df.index.get_level_values(1))\n",
    "values_list = list(regional_df['value'])\n",
    "for region in unique_regions: \n",
    "    country = regional_df.loc[region].index\n",
    "    for value in country:\n",
    "        region_list.append(region)"
   ]
  },
  {
   "cell_type": "code",
   "execution_count": null,
   "metadata": {},
   "outputs": [],
   "source": [
    "producer_list = [f\"{source}_{index}\" for index, source in enumerate(df['source'])]\n",
    "producer_country_list = list(df['target'])\n",
    "producer_values = list(df['value'])"
   ]
  },
  {
   "cell_type": "code",
   "execution_count": null,
   "metadata": {},
   "outputs": [],
   "source": [
    "labels = [''] + unique_regions + country_list + producer_list\n",
    "\n",
    "parent_group = [''] * len(unique_regions)\n",
    "parents = [''] + parent_group + region_list + producer_country_list\n",
    "\n",
    "parent_total = list(df.groupby('region').sum()['value'])\n",
    "values = [sum(parent_total)] + parent_total + values_list + producer_values"
   ]
  },
  {
   "cell_type": "code",
   "execution_count": null,
   "metadata": {},
   "outputs": [],
   "source": [
    "import plotly.graph_objects as go\n",
    "\n",
    "# Colors from https://coolors.co/3c905f-f4b393-fc60a8-8acdea-2d728f\n",
    "color_array = [\"#3c905f\",\"#f4b393\",\"#fc60a8\",\"#8acdea\",\"#2d728f\"]\n",
    "\n",
    "fig = go.Figure(go.Treemap(\n",
    "    branchvalues = \"total\",\n",
    "    labels = labels,\n",
    "    values = values,\n",
    "    parents = parents,\n",
    "    #marker_colorscale = 'Blues'\n",
    "    #marker_colors = ['white'] * len(list(investor_df['source'][:num_investors])) + ['lightgray'] * len(list(investor_df['source'][:num_investors].unique()))\n",
    "))\n",
    "\n",
    "fig.update_layout(\n",
    "    title_text=\"Volume of Plastics by Region and Country\", \n",
    "    font_size=12,\n",
    "    autosize=False,\n",
    "    width=400,\n",
    "    height=1250,\n",
    "    uniformtext=dict(minsize=8, mode='hide'),\n",
    "    #treemapcolorway = ['#c9c3bc'] * len(values)\n",
    "    treemapcolorway = color_array\n",
    "    #treemapcolorway = ['#F1D26D'] * len(values)\n",
    ")\n",
    "fig.write_html('../docs/region_country_producer_treemap-tall.html', include_plotlyjs='cdn')\n",
    "#fig.show()"
   ]
  },
  {
   "cell_type": "markdown",
   "metadata": {},
   "source": [
    "# Bar Plot"
   ]
  },
  {
   "cell_type": "code",
   "execution_count": null,
   "metadata": {},
   "outputs": [],
   "source": [
    "import matplotlib.pyplot as plt\n",
    "import seaborn as sns\n",
    "plt.figure(figsize=(8,5), dpi=150)\n",
    "country_sum = df.groupby('target').sum().sort_values(by='value', ascending=False)[:11].reset_index()\n",
    "country_sum['percentage'] = country_sum['value'] /  df.groupby('target').sum()['value'].sum() * 100\n",
    "sns.barplot(x='target', y='percentage', data=country_sum)\n",
    "plt.xticks(rotation=45, ha='right')\n",
    "plt.ylabel('Percentage of Global Plastics')\n",
    "plt.xlabel('')\n",
    "plt.show()"
   ]
  },
  {
   "cell_type": "markdown",
   "metadata": {},
   "source": [
    "# Tabular Facts"
   ]
  },
  {
   "cell_type": "code",
   "execution_count": null,
   "metadata": {},
   "outputs": [],
   "source": [
    "country_sum = df.groupby('target').sum().sort_values(by='value', ascending=False)[:20].reset_index()\n",
    "print(\"Top 20 Countries by Plastic Waste\")\n",
    "for index in range(len(country_sum)):\n",
    "    print(f\"{country_sum.iloc[index]['target']}, {country_sum.iloc[index]['value'] / df.groupby('target').sum()['value'].sum():.1%}\")\n",
    "print(f\"Other, {sum(df.groupby('target').sum().sort_values(by='value', ascending=False)[20:].reset_index()['value'] / df.groupby('target').sum()['value'].sum()):.1%}\")"
   ]
  },
  {
   "cell_type": "code",
   "execution_count": null,
   "metadata": {},
   "outputs": [],
   "source": [
    "country_sum = df.groupby('target').sum().sort_values(by='value', ascending=False)[:20].reset_index()\n",
    "print(\"Top 20 Countries by Plastic Waste\")\n",
    "for index in range(len(country_sum)):\n",
    "    print(f\"{country_sum.iloc[index]['target']}, {country_sum.iloc[index]['value']:.0f}\")\n",
    "print(f\"Other, {sum(df.groupby('target').sum().sort_values(by='value', ascending=False)[20:].reset_index()['value']):.0f}\")"
   ]
  },
  {
   "cell_type": "code",
   "execution_count": null,
   "metadata": {},
   "outputs": [],
   "source": [
    "top_countries = df.groupby('target').sum().sort_values(by='value', ascending=False)[:5].reset_index()['target']\n",
    "print(\"Top producers supplying plastics to the top 5 countries\\n\")\n",
    "for country in top_countries:\n",
    "    print(country)\n",
    "    top_producers = df[df['target'] == country].groupby('source').sum().sort_values(by='value', ascending=False)[:5]\n",
    "    total_producer_value = df[df['target'] == country].groupby('source').sum().sort_values(by='value', ascending=False).sum().value\n",
    "    for producer, value in zip(top_producers.index, top_producers['value']):\n",
    "        print(f\"\\t{producer}, {value / total_producer_value:.1%}\")\n",
    "    print(f\"\\tOther, {top_producers.sum().value / total_producer_value:.1%}\\n\")"
   ]
  }
 ],
 "metadata": {
  "kernelspec": {
   "display_name": "Python 3",
   "language": "python",
   "name": "python3"
  },
  "language_info": {
   "codemirror_mode": {
    "name": "ipython",
    "version": 3
   },
   "file_extension": ".py",
   "mimetype": "text/x-python",
   "name": "python",
   "nbconvert_exporter": "python",
   "pygments_lexer": "ipython3",
   "version": "3.6.5"
  }
 },
 "nbformat": 4,
 "nbformat_minor": 4
}
