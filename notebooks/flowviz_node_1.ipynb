{
 "cells": [
  {
   "cell_type": "markdown",
   "metadata": {},
   "source": [
    "# PPI Flow Viz - Node 1\n",
    "\n",
    "### Source: Investor OR Financer\n",
    "Investor value = total \\\\$mn invested: \"Equity Investor SUP matrix\" – \"Ultimate Investor\" (Column B) x \"\\\\$ Holding - Single Use Plastic Adjusted\" (Column GH)\n",
    "\n",
    "Financer value = total \\\\$mn of financing: \"Financing SUP matrix\" – \"Bank\" (Column A) x \"Grand Total\"(Column AW)\n",
    "\n",
    "\n",
    "### Edge\n",
    "Investor value = \\\\$mn invested in each Producer: ‘Equity Investor SUP matrix’ – ‘Ultimate Investor’ (Column B) x Producer (Columns E4:GG4)\n",
    "\n",
    "Financer value = \\\\$mn of financing to each Producer: ‘Financing SUP matrix’ – ‘Bank’ (Column A) x Producer (Columns B5:AV5)\n",
    "\n",
    "\n",
    "### Sink: Producer\n",
    "\n",
    "Value = total volume of polymers bound for single-use plastic applications, by producer\n",
    "MFA matrix, ‘Conversion’ tab: sum of all identical ‘Producer’ entries (Column C) x ‘checksum’ (Column FZ)"
   ]
  },
  {
   "cell_type": "code",
   "execution_count": 2,
   "metadata": {},
   "outputs": [],
   "source": [
    "import pandas as pd\n",
    "import numpy as np\n",
    "import plotly.graph_objects as go"
   ]
  },
  {
   "cell_type": "markdown",
   "metadata": {},
   "source": [
    "## Load data\n",
    "\n",
    "For the Sankey creation function, the data must be list the sources as the dataframe index, and the targets as the dataframe columns"
   ]
  },
  {
   "cell_type": "code",
   "execution_count": 273,
   "metadata": {},
   "outputs": [
    {
     "name": "stdout",
     "output_type": "stream",
     "text": [
      "Investor Dataframe\n"
     ]
    },
    {
     "data": {
      "text/html": [
       "<div>\n",
       "<style scoped>\n",
       "    .dataframe tbody tr th:only-of-type {\n",
       "        vertical-align: middle;\n",
       "    }\n",
       "\n",
       "    .dataframe tbody tr th {\n",
       "        vertical-align: top;\n",
       "    }\n",
       "\n",
       "    .dataframe thead th {\n",
       "        text-align: right;\n",
       "    }\n",
       "</style>\n",
       "<table border=\"1\" class=\"dataframe\">\n",
       "  <thead>\n",
       "    <tr style=\"text-align: right;\">\n",
       "      <th></th>\n",
       "      <th>North Huajin Chemical Industri</th>\n",
       "      <th>Daelim Industrial Co Ltd</th>\n",
       "      <th>Qinghai Salt Lake Industry Co</th>\n",
       "      <th>Hanwha Corp</th>\n",
       "      <th>Oriental Energy Co Ltd</th>\n",
       "      <th>Rongsheng Petro Chemical Co Lt</th>\n",
       "      <th>Zhejiang Satellite Petrochemic</th>\n",
       "      <th>Hyosung Corp</th>\n",
       "      <th>S-Oil Corp</th>\n",
       "      <th>Lotte Chemical Corp</th>\n",
       "      <th>...</th>\n",
       "      <th>SHAHID TONDGOYAN PETROCHEMICAL COMPANY</th>\n",
       "      <th>NATIONAL PETROCHEMICAL COMPANY</th>\n",
       "      <th>MEHR PETROCHEMICAL COMPLEX</th>\n",
       "      <th>LALEH PETROCHEMICAL COMPANY</th>\n",
       "      <th>MARUZEN PETROCHEMICAL CO.,LTD.</th>\n",
       "      <th>DATANG ENERGY CHEMICAL CO., LTD.</th>\n",
       "      <th>NATIONAL COMPANY KAZMUNAYGAZ JSC</th>\n",
       "      <th>SICHUAN YIBIN WULIANGYE GROUP YIBIN PHARMACEUTICAL CO., LTD.</th>\n",
       "      <th>PRIME POLYMER CO., LTD.</th>\n",
       "      <th>SHENYANG PARAFFIN-WAX CHEMICAL CO., LTD.</th>\n",
       "    </tr>\n",
       "    <tr>\n",
       "      <th>Ultimate Investor</th>\n",
       "      <th></th>\n",
       "      <th></th>\n",
       "      <th></th>\n",
       "      <th></th>\n",
       "      <th></th>\n",
       "      <th></th>\n",
       "      <th></th>\n",
       "      <th></th>\n",
       "      <th></th>\n",
       "      <th></th>\n",
       "      <th></th>\n",
       "      <th></th>\n",
       "      <th></th>\n",
       "      <th></th>\n",
       "      <th></th>\n",
       "      <th></th>\n",
       "      <th></th>\n",
       "      <th></th>\n",
       "      <th></th>\n",
       "      <th></th>\n",
       "      <th></th>\n",
       "    </tr>\n",
       "  </thead>\n",
       "  <tbody>\n",
       "    <tr>\n",
       "      <th>KINGDOM OF SAUDI ARABIA</th>\n",
       "      <td>0.000000</td>\n",
       "      <td>0.000000</td>\n",
       "      <td>0.000000</td>\n",
       "      <td>0.000000</td>\n",
       "      <td>0.000000</td>\n",
       "      <td>0.000000</td>\n",
       "      <td>0.000000</td>\n",
       "      <td>0.00000</td>\n",
       "      <td>13.535443</td>\n",
       "      <td>0.000000</td>\n",
       "      <td>...</td>\n",
       "      <td>0.0</td>\n",
       "      <td>0.0</td>\n",
       "      <td>0.000000</td>\n",
       "      <td>0.0</td>\n",
       "      <td>0.000000</td>\n",
       "      <td>0.0</td>\n",
       "      <td>0.0</td>\n",
       "      <td>0.000000</td>\n",
       "      <td>1.083693</td>\n",
       "      <td>0.000000</td>\n",
       "    </tr>\n",
       "    <tr>\n",
       "      <th>PEOPLE'S REPUBLIC OF CHINA</th>\n",
       "      <td>21.019217</td>\n",
       "      <td>0.000000</td>\n",
       "      <td>51.439983</td>\n",
       "      <td>0.000000</td>\n",
       "      <td>0.014524</td>\n",
       "      <td>0.539897</td>\n",
       "      <td>7.176349</td>\n",
       "      <td>0.00000</td>\n",
       "      <td>0.000000</td>\n",
       "      <td>0.000000</td>\n",
       "      <td>...</td>\n",
       "      <td>0.0</td>\n",
       "      <td>0.0</td>\n",
       "      <td>0.000000</td>\n",
       "      <td>0.0</td>\n",
       "      <td>0.000000</td>\n",
       "      <td>0.0</td>\n",
       "      <td>0.0</td>\n",
       "      <td>68.594685</td>\n",
       "      <td>0.000000</td>\n",
       "      <td>11.753004</td>\n",
       "    </tr>\n",
       "    <tr>\n",
       "      <th>EMIRATE OF ABU DHABI UNITED ARAB EMIRATES</th>\n",
       "      <td>0.000000</td>\n",
       "      <td>0.000000</td>\n",
       "      <td>0.000000</td>\n",
       "      <td>0.000000</td>\n",
       "      <td>0.000000</td>\n",
       "      <td>0.000000</td>\n",
       "      <td>0.000000</td>\n",
       "      <td>0.00000</td>\n",
       "      <td>0.000000</td>\n",
       "      <td>0.000000</td>\n",
       "      <td>...</td>\n",
       "      <td>0.0</td>\n",
       "      <td>0.0</td>\n",
       "      <td>0.000000</td>\n",
       "      <td>0.0</td>\n",
       "      <td>0.000000</td>\n",
       "      <td>0.0</td>\n",
       "      <td>0.0</td>\n",
       "      <td>0.000000</td>\n",
       "      <td>0.000000</td>\n",
       "      <td>0.000000</td>\n",
       "    </tr>\n",
       "    <tr>\n",
       "      <th>AMBANI FAMILY</th>\n",
       "      <td>0.000000</td>\n",
       "      <td>0.000000</td>\n",
       "      <td>0.000000</td>\n",
       "      <td>0.000000</td>\n",
       "      <td>0.000000</td>\n",
       "      <td>0.000000</td>\n",
       "      <td>0.000000</td>\n",
       "      <td>0.00000</td>\n",
       "      <td>0.000000</td>\n",
       "      <td>0.000000</td>\n",
       "      <td>...</td>\n",
       "      <td>0.0</td>\n",
       "      <td>0.0</td>\n",
       "      <td>0.000000</td>\n",
       "      <td>0.0</td>\n",
       "      <td>0.000000</td>\n",
       "      <td>0.0</td>\n",
       "      <td>0.0</td>\n",
       "      <td>0.000000</td>\n",
       "      <td>0.000000</td>\n",
       "      <td>0.000000</td>\n",
       "    </tr>\n",
       "    <tr>\n",
       "      <th>VANGUARD GROUP INC/THE</th>\n",
       "      <td>0.229368</td>\n",
       "      <td>3.170175</td>\n",
       "      <td>0.000000</td>\n",
       "      <td>1.179354</td>\n",
       "      <td>0.166939</td>\n",
       "      <td>1.852389</td>\n",
       "      <td>1.337038</td>\n",
       "      <td>1.77867</td>\n",
       "      <td>0.233129</td>\n",
       "      <td>29.342339</td>\n",
       "      <td>...</td>\n",
       "      <td>0.0</td>\n",
       "      <td>0.0</td>\n",
       "      <td>0.000001</td>\n",
       "      <td>0.0</td>\n",
       "      <td>0.012245</td>\n",
       "      <td>0.0</td>\n",
       "      <td>0.0</td>\n",
       "      <td>0.000000</td>\n",
       "      <td>0.993410</td>\n",
       "      <td>0.065522</td>\n",
       "    </tr>\n",
       "  </tbody>\n",
       "</table>\n",
       "<p>5 rows × 185 columns</p>\n",
       "</div>"
      ],
      "text/plain": [
       "                                           North Huajin Chemical Industri  \\\n",
       "Ultimate Investor                                                           \n",
       "KINGDOM OF SAUDI ARABIA                                          0.000000   \n",
       "PEOPLE'S REPUBLIC OF CHINA                                      21.019217   \n",
       "EMIRATE OF ABU DHABI UNITED ARAB EMIRATES                        0.000000   \n",
       "AMBANI FAMILY                                                    0.000000   \n",
       "VANGUARD GROUP INC/THE                                           0.229368   \n",
       "\n",
       "                                           Daelim Industrial Co Ltd  \\\n",
       "Ultimate Investor                                                     \n",
       "KINGDOM OF SAUDI ARABIA                                    0.000000   \n",
       "PEOPLE'S REPUBLIC OF CHINA                                 0.000000   \n",
       "EMIRATE OF ABU DHABI UNITED ARAB EMIRATES                  0.000000   \n",
       "AMBANI FAMILY                                              0.000000   \n",
       "VANGUARD GROUP INC/THE                                     3.170175   \n",
       "\n",
       "                                           Qinghai Salt Lake Industry Co  \\\n",
       "Ultimate Investor                                                          \n",
       "KINGDOM OF SAUDI ARABIA                                         0.000000   \n",
       "PEOPLE'S REPUBLIC OF CHINA                                     51.439983   \n",
       "EMIRATE OF ABU DHABI UNITED ARAB EMIRATES                       0.000000   \n",
       "AMBANI FAMILY                                                   0.000000   \n",
       "VANGUARD GROUP INC/THE                                          0.000000   \n",
       "\n",
       "                                           Hanwha Corp  \\\n",
       "Ultimate Investor                                        \n",
       "KINGDOM OF SAUDI ARABIA                       0.000000   \n",
       "PEOPLE'S REPUBLIC OF CHINA                    0.000000   \n",
       "EMIRATE OF ABU DHABI UNITED ARAB EMIRATES     0.000000   \n",
       "AMBANI FAMILY                                 0.000000   \n",
       "VANGUARD GROUP INC/THE                        1.179354   \n",
       "\n",
       "                                           Oriental Energy Co Ltd  \\\n",
       "Ultimate Investor                                                   \n",
       "KINGDOM OF SAUDI ARABIA                                  0.000000   \n",
       "PEOPLE'S REPUBLIC OF CHINA                               0.014524   \n",
       "EMIRATE OF ABU DHABI UNITED ARAB EMIRATES                0.000000   \n",
       "AMBANI FAMILY                                            0.000000   \n",
       "VANGUARD GROUP INC/THE                                   0.166939   \n",
       "\n",
       "                                           Rongsheng Petro Chemical Co Lt  \\\n",
       "Ultimate Investor                                                           \n",
       "KINGDOM OF SAUDI ARABIA                                          0.000000   \n",
       "PEOPLE'S REPUBLIC OF CHINA                                       0.539897   \n",
       "EMIRATE OF ABU DHABI UNITED ARAB EMIRATES                        0.000000   \n",
       "AMBANI FAMILY                                                    0.000000   \n",
       "VANGUARD GROUP INC/THE                                           1.852389   \n",
       "\n",
       "                                           Zhejiang Satellite Petrochemic  \\\n",
       "Ultimate Investor                                                           \n",
       "KINGDOM OF SAUDI ARABIA                                          0.000000   \n",
       "PEOPLE'S REPUBLIC OF CHINA                                       7.176349   \n",
       "EMIRATE OF ABU DHABI UNITED ARAB EMIRATES                        0.000000   \n",
       "AMBANI FAMILY                                                    0.000000   \n",
       "VANGUARD GROUP INC/THE                                           1.337038   \n",
       "\n",
       "                                           Hyosung Corp  S-Oil Corp  \\\n",
       "Ultimate Investor                                                     \n",
       "KINGDOM OF SAUDI ARABIA                         0.00000   13.535443   \n",
       "PEOPLE'S REPUBLIC OF CHINA                      0.00000    0.000000   \n",
       "EMIRATE OF ABU DHABI UNITED ARAB EMIRATES       0.00000    0.000000   \n",
       "AMBANI FAMILY                                   0.00000    0.000000   \n",
       "VANGUARD GROUP INC/THE                          1.77867    0.233129   \n",
       "\n",
       "                                           Lotte Chemical Corp  ...  \\\n",
       "Ultimate Investor                                               ...   \n",
       "KINGDOM OF SAUDI ARABIA                               0.000000  ...   \n",
       "PEOPLE'S REPUBLIC OF CHINA                            0.000000  ...   \n",
       "EMIRATE OF ABU DHABI UNITED ARAB EMIRATES             0.000000  ...   \n",
       "AMBANI FAMILY                                         0.000000  ...   \n",
       "VANGUARD GROUP INC/THE                               29.342339  ...   \n",
       "\n",
       "                                           SHAHID TONDGOYAN PETROCHEMICAL COMPANY  \\\n",
       "Ultimate Investor                                                                   \n",
       "KINGDOM OF SAUDI ARABIA                                                       0.0   \n",
       "PEOPLE'S REPUBLIC OF CHINA                                                    0.0   \n",
       "EMIRATE OF ABU DHABI UNITED ARAB EMIRATES                                     0.0   \n",
       "AMBANI FAMILY                                                                 0.0   \n",
       "VANGUARD GROUP INC/THE                                                        0.0   \n",
       "\n",
       "                                           NATIONAL PETROCHEMICAL COMPANY  \\\n",
       "Ultimate Investor                                                           \n",
       "KINGDOM OF SAUDI ARABIA                                               0.0   \n",
       "PEOPLE'S REPUBLIC OF CHINA                                            0.0   \n",
       "EMIRATE OF ABU DHABI UNITED ARAB EMIRATES                             0.0   \n",
       "AMBANI FAMILY                                                         0.0   \n",
       "VANGUARD GROUP INC/THE                                                0.0   \n",
       "\n",
       "                                           MEHR PETROCHEMICAL COMPLEX  \\\n",
       "Ultimate Investor                                                       \n",
       "KINGDOM OF SAUDI ARABIA                                      0.000000   \n",
       "PEOPLE'S REPUBLIC OF CHINA                                   0.000000   \n",
       "EMIRATE OF ABU DHABI UNITED ARAB EMIRATES                    0.000000   \n",
       "AMBANI FAMILY                                                0.000000   \n",
       "VANGUARD GROUP INC/THE                                       0.000001   \n",
       "\n",
       "                                           LALEH PETROCHEMICAL COMPANY  \\\n",
       "Ultimate Investor                                                        \n",
       "KINGDOM OF SAUDI ARABIA                                            0.0   \n",
       "PEOPLE'S REPUBLIC OF CHINA                                         0.0   \n",
       "EMIRATE OF ABU DHABI UNITED ARAB EMIRATES                          0.0   \n",
       "AMBANI FAMILY                                                      0.0   \n",
       "VANGUARD GROUP INC/THE                                             0.0   \n",
       "\n",
       "                                           MARUZEN PETROCHEMICAL CO.,LTD.  \\\n",
       "Ultimate Investor                                                           \n",
       "KINGDOM OF SAUDI ARABIA                                          0.000000   \n",
       "PEOPLE'S REPUBLIC OF CHINA                                       0.000000   \n",
       "EMIRATE OF ABU DHABI UNITED ARAB EMIRATES                        0.000000   \n",
       "AMBANI FAMILY                                                    0.000000   \n",
       "VANGUARD GROUP INC/THE                                           0.012245   \n",
       "\n",
       "                                           DATANG ENERGY CHEMICAL CO., LTD.  \\\n",
       "Ultimate Investor                                                             \n",
       "KINGDOM OF SAUDI ARABIA                                                 0.0   \n",
       "PEOPLE'S REPUBLIC OF CHINA                                              0.0   \n",
       "EMIRATE OF ABU DHABI UNITED ARAB EMIRATES                               0.0   \n",
       "AMBANI FAMILY                                                           0.0   \n",
       "VANGUARD GROUP INC/THE                                                  0.0   \n",
       "\n",
       "                                           NATIONAL COMPANY KAZMUNAYGAZ JSC  \\\n",
       "Ultimate Investor                                                             \n",
       "KINGDOM OF SAUDI ARABIA                                                 0.0   \n",
       "PEOPLE'S REPUBLIC OF CHINA                                              0.0   \n",
       "EMIRATE OF ABU DHABI UNITED ARAB EMIRATES                               0.0   \n",
       "AMBANI FAMILY                                                           0.0   \n",
       "VANGUARD GROUP INC/THE                                                  0.0   \n",
       "\n",
       "                                           SICHUAN YIBIN WULIANGYE GROUP YIBIN PHARMACEUTICAL CO., LTD.  \\\n",
       "Ultimate Investor                                                                                         \n",
       "KINGDOM OF SAUDI ARABIA                                                             0.000000              \n",
       "PEOPLE'S REPUBLIC OF CHINA                                                         68.594685              \n",
       "EMIRATE OF ABU DHABI UNITED ARAB EMIRATES                                           0.000000              \n",
       "AMBANI FAMILY                                                                       0.000000              \n",
       "VANGUARD GROUP INC/THE                                                              0.000000              \n",
       "\n",
       "                                           PRIME POLYMER CO., LTD.  \\\n",
       "Ultimate Investor                                                    \n",
       "KINGDOM OF SAUDI ARABIA                                   1.083693   \n",
       "PEOPLE'S REPUBLIC OF CHINA                                0.000000   \n",
       "EMIRATE OF ABU DHABI UNITED ARAB EMIRATES                 0.000000   \n",
       "AMBANI FAMILY                                             0.000000   \n",
       "VANGUARD GROUP INC/THE                                    0.993410   \n",
       "\n",
       "                                           SHENYANG PARAFFIN-WAX CHEMICAL CO., LTD.  \n",
       "Ultimate Investor                                                                    \n",
       "KINGDOM OF SAUDI ARABIA                                                    0.000000  \n",
       "PEOPLE'S REPUBLIC OF CHINA                                                11.753004  \n",
       "EMIRATE OF ABU DHABI UNITED ARAB EMIRATES                                  0.000000  \n",
       "AMBANI FAMILY                                                              0.000000  \n",
       "VANGUARD GROUP INC/THE                                                     0.065522  \n",
       "\n",
       "[5 rows x 185 columns]"
      ]
     },
     "execution_count": 273,
     "metadata": {},
     "output_type": "execute_result"
    }
   ],
   "source": [
    "investor = pd.read_excel(\n",
    "    \"../data/Equity investor SUP matrix.xlsx\",\n",
    "    engine=\"openpyxl\",\n",
    "    skiprows=3,\n",
    "    usecols=\"B, E:GG\",\n",
    ")\n",
    "\n",
    "investor = investor.rename(columns={investor.columns[0]: \"Ultimate Investor\"})\n",
    "\n",
    "# drop last row because it is a table summary\n",
    "investor = investor[:-1]\n",
    "investor = investor.set_index('Ultimate Investor')\n",
    "\n",
    "print(\"Investor Dataframe\")\n",
    "investor.head()"
   ]
  },
  {
   "cell_type": "code",
   "execution_count": 274,
   "metadata": {},
   "outputs": [
    {
     "name": "stdout",
     "output_type": "stream",
     "text": [
      "Financer Value Dataframe\n"
     ]
    },
    {
     "data": {
      "text/html": [
       "<div>\n",
       "<style scoped>\n",
       "    .dataframe tbody tr th:only-of-type {\n",
       "        vertical-align: middle;\n",
       "    }\n",
       "\n",
       "    .dataframe tbody tr th {\n",
       "        vertical-align: top;\n",
       "    }\n",
       "\n",
       "    .dataframe thead th {\n",
       "        text-align: right;\n",
       "    }\n",
       "</style>\n",
       "<table border=\"1\" class=\"dataframe\">\n",
       "  <thead>\n",
       "    <tr style=\"text-align: right;\">\n",
       "      <th></th>\n",
       "      <th>ABU DHABI NATIONAL OIL COMPANY (ADNOC)</th>\n",
       "      <th>Alpek SAB de CV</th>\n",
       "      <th>BOREALIS AG</th>\n",
       "      <th>Braskem SA</th>\n",
       "      <th>Chevron Corp</th>\n",
       "      <th>China Coal Energy Co Ltd</th>\n",
       "      <th>CHINA ENERGY INVESTMENT GROUP CO., LTD.</th>\n",
       "      <th>CHINA RESOURCES (HOLDINGS) COMPANY LIMITED</th>\n",
       "      <th>Dow Inc</th>\n",
       "      <th>Eni SpA</th>\n",
       "      <th>...</th>\n",
       "      <th>Siam Cement PCL/The</th>\n",
       "      <th>PUBLIC JOINT STOCK COMPANY SIBUR HOLDING</th>\n",
       "      <th>China Petroleum &amp; Chemical Corp</th>\n",
       "      <th>SK Innovation Co Ltd</th>\n",
       "      <th>Sumitomo Chemical Co Ltd</th>\n",
       "      <th>TOTAL SE</th>\n",
       "      <th>Westlake Chemical Corp</th>\n",
       "      <th>SHAANXI YANCHANG PETROLEUM (GROUP) CO., LTD.</th>\n",
       "      <th>Zhejiang Wankai New Materials Co. Ltd</th>\n",
       "      <th>Grand Total</th>\n",
       "    </tr>\n",
       "    <tr>\n",
       "      <th>Bank</th>\n",
       "      <th></th>\n",
       "      <th></th>\n",
       "      <th></th>\n",
       "      <th></th>\n",
       "      <th></th>\n",
       "      <th></th>\n",
       "      <th></th>\n",
       "      <th></th>\n",
       "      <th></th>\n",
       "      <th></th>\n",
       "      <th></th>\n",
       "      <th></th>\n",
       "      <th></th>\n",
       "      <th></th>\n",
       "      <th></th>\n",
       "      <th></th>\n",
       "      <th></th>\n",
       "      <th></th>\n",
       "      <th></th>\n",
       "      <th></th>\n",
       "      <th></th>\n",
       "    </tr>\n",
       "  </thead>\n",
       "  <tbody>\n",
       "    <tr>\n",
       "      <th>Barclays</th>\n",
       "      <td>27.412881</td>\n",
       "      <td>0.000000</td>\n",
       "      <td>1890.527483</td>\n",
       "      <td>0.000000</td>\n",
       "      <td>73.934224</td>\n",
       "      <td>0.0</td>\n",
       "      <td>0.0</td>\n",
       "      <td>0.000000</td>\n",
       "      <td>173.812884</td>\n",
       "      <td>34.348714</td>\n",
       "      <td>...</td>\n",
       "      <td>0.0</td>\n",
       "      <td>0.000000</td>\n",
       "      <td>7.433688</td>\n",
       "      <td>0.000000</td>\n",
       "      <td>0.000000</td>\n",
       "      <td>82.213109</td>\n",
       "      <td>22.770791</td>\n",
       "      <td>0.0</td>\n",
       "      <td>0.0</td>\n",
       "      <td>7616.337515</td>\n",
       "    </tr>\n",
       "    <tr>\n",
       "      <th>JPMorgan Chase</th>\n",
       "      <td>72.239679</td>\n",
       "      <td>439.952974</td>\n",
       "      <td>764.243389</td>\n",
       "      <td>106.983709</td>\n",
       "      <td>91.744051</td>\n",
       "      <td>0.0</td>\n",
       "      <td>0.0</td>\n",
       "      <td>1.235538</td>\n",
       "      <td>142.215109</td>\n",
       "      <td>27.063683</td>\n",
       "      <td>...</td>\n",
       "      <td>0.0</td>\n",
       "      <td>299.521807</td>\n",
       "      <td>45.643425</td>\n",
       "      <td>3.028444</td>\n",
       "      <td>0.000000</td>\n",
       "      <td>56.263155</td>\n",
       "      <td>153.299180</td>\n",
       "      <td>0.0</td>\n",
       "      <td>0.0</td>\n",
       "      <td>6998.480317</td>\n",
       "    </tr>\n",
       "    <tr>\n",
       "      <th>Citigroup</th>\n",
       "      <td>67.792580</td>\n",
       "      <td>420.051817</td>\n",
       "      <td>912.380208</td>\n",
       "      <td>519.320566</td>\n",
       "      <td>51.597385</td>\n",
       "      <td>0.0</td>\n",
       "      <td>0.0</td>\n",
       "      <td>1.235538</td>\n",
       "      <td>1015.017023</td>\n",
       "      <td>14.107988</td>\n",
       "      <td>...</td>\n",
       "      <td>0.0</td>\n",
       "      <td>20.364089</td>\n",
       "      <td>76.481711</td>\n",
       "      <td>8.873341</td>\n",
       "      <td>59.472277</td>\n",
       "      <td>55.235138</td>\n",
       "      <td>39.491862</td>\n",
       "      <td>0.0</td>\n",
       "      <td>0.0</td>\n",
       "      <td>6923.347487</td>\n",
       "    </tr>\n",
       "    <tr>\n",
       "      <th>Bank of America</th>\n",
       "      <td>54.315937</td>\n",
       "      <td>39.167216</td>\n",
       "      <td>288.755380</td>\n",
       "      <td>109.768070</td>\n",
       "      <td>80.250115</td>\n",
       "      <td>0.0</td>\n",
       "      <td>0.0</td>\n",
       "      <td>0.000000</td>\n",
       "      <td>573.544105</td>\n",
       "      <td>13.841928</td>\n",
       "      <td>...</td>\n",
       "      <td>0.0</td>\n",
       "      <td>0.000000</td>\n",
       "      <td>23.653820</td>\n",
       "      <td>3.028444</td>\n",
       "      <td>0.000000</td>\n",
       "      <td>39.077215</td>\n",
       "      <td>110.224202</td>\n",
       "      <td>0.0</td>\n",
       "      <td>0.0</td>\n",
       "      <td>6067.817900</td>\n",
       "    </tr>\n",
       "    <tr>\n",
       "      <th>HSBC</th>\n",
       "      <td>130.560125</td>\n",
       "      <td>508.194913</td>\n",
       "      <td>153.649720</td>\n",
       "      <td>254.022083</td>\n",
       "      <td>13.806886</td>\n",
       "      <td>0.0</td>\n",
       "      <td>0.0</td>\n",
       "      <td>2.495655</td>\n",
       "      <td>862.203772</td>\n",
       "      <td>14.268480</td>\n",
       "      <td>...</td>\n",
       "      <td>0.0</td>\n",
       "      <td>74.270887</td>\n",
       "      <td>65.793303</td>\n",
       "      <td>1.410352</td>\n",
       "      <td>27.124434</td>\n",
       "      <td>54.614334</td>\n",
       "      <td>3.082907</td>\n",
       "      <td>0.0</td>\n",
       "      <td>0.0</td>\n",
       "      <td>5165.508740</td>\n",
       "    </tr>\n",
       "  </tbody>\n",
       "</table>\n",
       "<p>5 rows × 48 columns</p>\n",
       "</div>"
      ],
      "text/plain": [
       "                 ABU DHABI NATIONAL OIL COMPANY (ADNOC)  Alpek SAB de CV  \\\n",
       "Bank                                                                       \n",
       "Barclays                                      27.412881         0.000000   \n",
       "JPMorgan Chase                                72.239679       439.952974   \n",
       "Citigroup                                     67.792580       420.051817   \n",
       "Bank of America                               54.315937        39.167216   \n",
       "HSBC                                         130.560125       508.194913   \n",
       "\n",
       "                 BOREALIS AG  Braskem SA  Chevron Corp  \\\n",
       "Bank                                                     \n",
       "Barclays         1890.527483    0.000000     73.934224   \n",
       "JPMorgan Chase    764.243389  106.983709     91.744051   \n",
       "Citigroup         912.380208  519.320566     51.597385   \n",
       "Bank of America   288.755380  109.768070     80.250115   \n",
       "HSBC              153.649720  254.022083     13.806886   \n",
       "\n",
       "                 China Coal Energy Co Ltd  \\\n",
       "Bank                                        \n",
       "Barclays                              0.0   \n",
       "JPMorgan Chase                        0.0   \n",
       "Citigroup                             0.0   \n",
       "Bank of America                       0.0   \n",
       "HSBC                                  0.0   \n",
       "\n",
       "                 CHINA ENERGY INVESTMENT GROUP CO., LTD.  \\\n",
       "Bank                                                       \n",
       "Barclays                                             0.0   \n",
       "JPMorgan Chase                                       0.0   \n",
       "Citigroup                                            0.0   \n",
       "Bank of America                                      0.0   \n",
       "HSBC                                                 0.0   \n",
       "\n",
       "                 CHINA RESOURCES (HOLDINGS) COMPANY LIMITED      Dow Inc  \\\n",
       "Bank                                                                       \n",
       "Barclays                                           0.000000   173.812884   \n",
       "JPMorgan Chase                                     1.235538   142.215109   \n",
       "Citigroup                                          1.235538  1015.017023   \n",
       "Bank of America                                    0.000000   573.544105   \n",
       "HSBC                                               2.495655   862.203772   \n",
       "\n",
       "                   Eni SpA  ...  Siam Cement PCL/The  \\\n",
       "Bank                        ...                        \n",
       "Barclays         34.348714  ...                  0.0   \n",
       "JPMorgan Chase   27.063683  ...                  0.0   \n",
       "Citigroup        14.107988  ...                  0.0   \n",
       "Bank of America  13.841928  ...                  0.0   \n",
       "HSBC             14.268480  ...                  0.0   \n",
       "\n",
       "                 PUBLIC JOINT STOCK COMPANY SIBUR HOLDING  \\\n",
       "Bank                                                        \n",
       "Barclays                                         0.000000   \n",
       "JPMorgan Chase                                 299.521807   \n",
       "Citigroup                                       20.364089   \n",
       "Bank of America                                  0.000000   \n",
       "HSBC                                            74.270887   \n",
       "\n",
       "                 China Petroleum & Chemical Corp  SK Innovation Co Ltd  \\\n",
       "Bank                                                                     \n",
       "Barclays                                7.433688              0.000000   \n",
       "JPMorgan Chase                         45.643425              3.028444   \n",
       "Citigroup                              76.481711              8.873341   \n",
       "Bank of America                        23.653820              3.028444   \n",
       "HSBC                                   65.793303              1.410352   \n",
       "\n",
       "                 Sumitomo Chemical Co Ltd   TOTAL SE  Westlake Chemical Corp  \\\n",
       "Bank                                                                           \n",
       "Barclays                         0.000000  82.213109               22.770791   \n",
       "JPMorgan Chase                   0.000000  56.263155              153.299180   \n",
       "Citigroup                       59.472277  55.235138               39.491862   \n",
       "Bank of America                  0.000000  39.077215              110.224202   \n",
       "HSBC                            27.124434  54.614334                3.082907   \n",
       "\n",
       "                 SHAANXI YANCHANG PETROLEUM (GROUP) CO., LTD.  \\\n",
       "Bank                                                            \n",
       "Barclays                                                  0.0   \n",
       "JPMorgan Chase                                            0.0   \n",
       "Citigroup                                                 0.0   \n",
       "Bank of America                                           0.0   \n",
       "HSBC                                                      0.0   \n",
       "\n",
       "                 Zhejiang Wankai New Materials Co. Ltd  Grand Total  \n",
       "Bank                                                                 \n",
       "Barclays                                           0.0  7616.337515  \n",
       "JPMorgan Chase                                     0.0  6998.480317  \n",
       "Citigroup                                          0.0  6923.347487  \n",
       "Bank of America                                    0.0  6067.817900  \n",
       "HSBC                                               0.0  5165.508740  \n",
       "\n",
       "[5 rows x 48 columns]"
      ]
     },
     "execution_count": 274,
     "metadata": {},
     "output_type": "execute_result"
    }
   ],
   "source": [
    "financer = pd.read_excel(\n",
    "    \"../data/Financing SUP matrix.xlsx\",\n",
    "    engine=\"openpyxl\",\n",
    "    skiprows=4,\n",
    "    #usecols=\"A:AW\",\n",
    ")\n",
    "\n",
    "# drop last row because it is null\n",
    "financer = financer[:-1]\n",
    "financer = financer.set_index('Bank')\n",
    "\n",
    "print(\"Financer Value Dataframe\")\n",
    "financer.head()"
   ]
  },
  {
   "cell_type": "markdown",
   "metadata": {},
   "source": [
    "## Create the source -> target structure"
   ]
  },
  {
   "cell_type": "code",
   "execution_count": 473,
   "metadata": {},
   "outputs": [],
   "source": [
    "def filter_df(df, num_sources=None, num_targets=None):\n",
    "    \"\"\"\n",
    "    A function to filter the data frame by top n sources and targets\n",
    "    If num_sources or num_targets args are not supplied, they will not be filtered\n",
    "    \"\"\"\n",
    "    if num_targets:\n",
    "        top_targets = df.sum().sort_values(ascending=False)\n",
    "        df = df[top_targets[:num_targets].index]\n",
    "    \n",
    "    if num_sources:\n",
    "        top_sources = df.sum(axis=1).sort_values(ascending=False)[:num_sources]\n",
    "        df = df.loc[top_sources.index]\n",
    "    \n",
    "    return df\n",
    "\n",
    "def create_sankey_df(df, min_val=0):\n",
    "    \"\"\"\n",
    "    Create the human-readable form of the Sankey chart data from an input data frame\n",
    "    Data can be filtered by a threshold minimum value\n",
    "    | Source | Source Value | Target | Target Value |\n",
    "    |    A   |      5       |   i    |      3       |\n",
    "    |    A   |      5       |   j    |      2       |\n",
    "    |    B   |      7       |   i    |      1       |\n",
    "    |    B   |      7       |   k    |      4       |\n",
    "    \"\"\"\n",
    "    \n",
    "    sources = []\n",
    "    source_vals = []\n",
    "    targets = []\n",
    "    target_vals = []\n",
    "    for source_name in df.index:\n",
    "        row = df.loc[source_name]\n",
    "        sources += [source_name] * sum(row.values > min_val)\n",
    "        source_vals += [row[row.values > min_val].sum()] * sum(row.values > min_val)\n",
    "        targets += list(row[row > min_val].index)\n",
    "        target_vals += list(row[row > min_val].values)\n",
    "    \n",
    "    sankey_df = pd.DataFrame({\n",
    "        'source': sources,\n",
    "        'source_value': source_vals,\n",
    "        'target': targets,\n",
    "        'target_value': target_vals\n",
    "    })\n",
    "    \n",
    "    return sankey_df\n",
    "\n",
    "def create_sankey_dict(sankey_df):\n",
    "    \"\"\"\n",
    "    Plotly requires that each source and target be converted to a numerical index\n",
    "    This index also points to an entry in the labels file\n",
    "    As a convention that I think will be useful, indices for a target build off of\n",
    "    the last value in the preceding column's indices\n",
    "    \"\"\"\n",
    "    source_nodes = sorted(sankey_df.source.unique())\n",
    "    source_node_dict = {source_nodes[i]: i for i in range(len(source_nodes))}\n",
    "\n",
    "    target_nodes = sorted(node_1_df.target.unique())\n",
    "    target_node_dict = {target_nodes[i]: i + max(source_node_dict.values()) for i in range(len(target_nodes))}\n",
    "    \n",
    "    source_indices = list(sankey_df.source.map(source_node_dict).values)\n",
    "    source_values  = list(sankey_df.source_value)\n",
    "    target_indices = list(sankey_df.target.map(target_node_dict).values)\n",
    "    target_values  = list(sankey_df.target_value)\n",
    "    \n",
    "    sankey_dict = {\n",
    "        'source_labels': source_nodes,\n",
    "        'source': source_indices,\n",
    "        'source_values': source_values,\n",
    "        'target_labels': target_nodes,\n",
    "        'target': target_indices,\n",
    "        'target_values': target_values\n",
    "    }\n",
    "    \n",
    "    return sankey_dict\n",
    "\n",
    "def plot_sankey(sankey_dict, title):\n",
    "    \"\"\"Plot a Sankey diagram. By default, line height is given by the target values\"\"\"\n",
    "    fig = go.Figure(data=[go.Sankey(\n",
    "        node = dict(\n",
    "          pad = 15,\n",
    "          thickness = 20,\n",
    "          line = dict(color = \"black\", width = 0.5),\n",
    "          label = sankey_dict['source_labels'] + sankey_dict['target_labels'],\n",
    "          color = \"black\"\n",
    "        ),\n",
    "        link = dict(\n",
    "          source = sankey_dict['source'],\n",
    "          target = sankey_dict['target'],\n",
    "          value  = sankey_dict['target_values']\n",
    "      ))])\n",
    "\n",
    "    fig.update_layout(title_text=title, font_size=10)\n",
    "    return fig"
   ]
  },
  {
   "cell_type": "markdown",
   "metadata": {},
   "source": [
    "## Create Investor Sankey"
   ]
  },
  {
   "cell_type": "code",
   "execution_count": 467,
   "metadata": {},
   "outputs": [],
   "source": [
    "filtered_df = filter_df(investor, num_sources=10, num_targets=15)"
   ]
  },
  {
   "cell_type": "code",
   "execution_count": 468,
   "metadata": {},
   "outputs": [
    {
     "data": {
      "text/html": [
       "<div>\n",
       "<style scoped>\n",
       "    .dataframe tbody tr th:only-of-type {\n",
       "        vertical-align: middle;\n",
       "    }\n",
       "\n",
       "    .dataframe tbody tr th {\n",
       "        vertical-align: top;\n",
       "    }\n",
       "\n",
       "    .dataframe thead th {\n",
       "        text-align: right;\n",
       "    }\n",
       "</style>\n",
       "<table border=\"1\" class=\"dataframe\">\n",
       "  <thead>\n",
       "    <tr style=\"text-align: right;\">\n",
       "      <th></th>\n",
       "      <th>source</th>\n",
       "      <th>source_value</th>\n",
       "      <th>target</th>\n",
       "      <th>target_value</th>\n",
       "    </tr>\n",
       "  </thead>\n",
       "  <tbody>\n",
       "    <tr>\n",
       "      <th>0</th>\n",
       "      <td>KINGDOM OF SAUDI ARABIA</td>\n",
       "      <td>42803.429564</td>\n",
       "      <td>Saudi Arabian Oil Co</td>\n",
       "      <td>36281.752216</td>\n",
       "    </tr>\n",
       "    <tr>\n",
       "      <th>1</th>\n",
       "      <td>KINGDOM OF SAUDI ARABIA</td>\n",
       "      <td>42803.429564</td>\n",
       "      <td>Saudi Basic Industries Corp</td>\n",
       "      <td>6521.677349</td>\n",
       "    </tr>\n",
       "    <tr>\n",
       "      <th>2</th>\n",
       "      <td>PEOPLE'S REPUBLIC OF CHINA</td>\n",
       "      <td>3824.990553</td>\n",
       "      <td>CHINA ENERGY INVESTMENT GROUP CO., LTD.</td>\n",
       "      <td>2039.182522</td>\n",
       "    </tr>\n",
       "    <tr>\n",
       "      <th>3</th>\n",
       "      <td>PEOPLE'S REPUBLIC OF CHINA</td>\n",
       "      <td>3824.990553</td>\n",
       "      <td>PetroChina Co Ltd</td>\n",
       "      <td>1785.808032</td>\n",
       "    </tr>\n",
       "    <tr>\n",
       "      <th>4</th>\n",
       "      <td>EMIRATE OF ABU DHABI UNITED ARAB EMIRATES</td>\n",
       "      <td>3254.174983</td>\n",
       "      <td>BOREALIS AG</td>\n",
       "      <td>3254.174983</td>\n",
       "    </tr>\n",
       "  </tbody>\n",
       "</table>\n",
       "</div>"
      ],
      "text/plain": [
       "                                      source  source_value  \\\n",
       "0                    KINGDOM OF SAUDI ARABIA  42803.429564   \n",
       "1                    KINGDOM OF SAUDI ARABIA  42803.429564   \n",
       "2                 PEOPLE'S REPUBLIC OF CHINA   3824.990553   \n",
       "3                 PEOPLE'S REPUBLIC OF CHINA   3824.990553   \n",
       "4  EMIRATE OF ABU DHABI UNITED ARAB EMIRATES   3254.174983   \n",
       "\n",
       "                                    target  target_value  \n",
       "0                     Saudi Arabian Oil Co  36281.752216  \n",
       "1              Saudi Basic Industries Corp   6521.677349  \n",
       "2  CHINA ENERGY INVESTMENT GROUP CO., LTD.   2039.182522  \n",
       "3                        PetroChina Co Ltd   1785.808032  \n",
       "4                              BOREALIS AG   3254.174983  "
      ]
     },
     "execution_count": 468,
     "metadata": {},
     "output_type": "execute_result"
    }
   ],
   "source": [
    "sankey_df = create_sankey_df(filtered_df, min_val=100)\n",
    "sankey_df.head()"
   ]
  },
  {
   "cell_type": "code",
   "execution_count": 469,
   "metadata": {},
   "outputs": [],
   "source": [
    "sankey_dict = create_sankey_dict(sankey_df)"
   ]
  },
  {
   "cell_type": "code",
   "execution_count": 470,
   "metadata": {},
   "outputs": [
    {
     "data": {
      "application/vnd.plotly.v1+json": {
       "config": {
        "plotlyServerURL": "https://plot.ly"
       },
       "data": [
        {
         "link": {
          "source": [
           6,
           6,
           8,
           8,
           5,
           0,
           7,
           2,
           4,
           3,
           3,
           3,
           9,
           9,
           9,
           9,
           9,
           1,
           1,
           1,
           1,
           1
          ],
          "target": [
           39,
           40,
           12,
           34,
           10,
           36,
           23,
           24,
           32,
           36,
           27,
           17,
           36,
           27,
           17,
           21,
           19,
           36,
           27,
           17,
           21,
           19
          ],
          "value": [
           36281.75221556275,
           6521.677348818272,
           2039.1825217587,
           1785.80803164601,
           3254.174982893389,
           3078.284791053483,
           2765.483741267275,
           2613.863198894743,
           2284.225036150862,
           354.4819597638086,
           707.7917183426736,
           1117.749871722406,
           137.1224727103461,
           483.0014773277353,
           604.9503767495884,
           207.8756828091169,
           516.2011528531106,
           109.5532259318637,
           435.8756801329945,
           447.6673668589315,
           145.869177382952,
           411.0509801093805
          ]
         },
         "node": {
          "color": "black",
          "label": [
           "AMBANI FAMILY",
           "BLACKROCK INC",
           "CANOPUS INTERNATIONAL LTD",
           "CAPITAL GROUP COS INC/THE",
           "EAST STEP INTERNATIONAL HOLDIN",
           "EMIRATE OF ABU DHABI UNITED ARAB EMIRATES",
           "KINGDOM OF SAUDI ARABIA",
           "MR JAMES ARTHUR RATCLIFFE",
           "PEOPLE'S REPUBLIC OF CHINA",
           "VANGUARD GROUP INC/THE",
           "ABU DHABI NATIONAL OIL COMPANY (ADNOC)",
           "BOREALIS AG",
           "Braskem SA",
           "CHINA ENERGY INVESTMENT GROUP CO., LTD.",
           "CNOOC Ltd",
           "Chandra Asri Petrochemical Tbk",
           "Chevron Corp",
           "China Petroleum & Chemical Corp",
           "Dow Inc",
           "Ecopetrol SA",
           "Exxon Mobil Corp",
           "Far Eastern New Century Corp",
           "Formosa Plastics Corp",
           "GAIL India Ltd",
           "INEOS LIMITED",
           "Indorama Ventures PCL",
           "LG Chem Ltd",
           "Lotte Chemical Corp",
           "LyondellBasell Industries NV",
           "Mesaieed Petrochemical Holding",
           "NOVA CHEMICALS CORPORATION",
           "Nan Ya Plastics Corp",
           "National Petrochemical Co",
           "Ningxia Baofeng Energy Group C",
           "PTT PCL",
           "PetroChina Co Ltd",
           "Petronas Chemicals Group Bhd",
           "Reliance Industries Ltd",
           "Rongsheng Petro Chemical Co Lt",
           "SHAANXI YANCHANG PETROLEUM (GROUP) CO., LTD.",
           "Saudi Arabian Oil Co",
           "Saudi Basic Industries Corp",
           "Saudi Kayan Petrochemical Co",
           "Siam Cement PCL/The",
           "TOTAL SE",
           "Westlake Chemical Corp",
           "Yanbu National Petrochemical C",
           "Zhejiang Satellite Petrochemic"
          ],
          "line": {
           "color": "black",
           "width": 0.5
          },
          "pad": 15,
          "thickness": 20
         },
         "type": "sankey"
        }
       ],
       "layout": {
        "font": {
         "size": 10
        },
        "template": {
         "data": {
          "bar": [
           {
            "error_x": {
             "color": "#2a3f5f"
            },
            "error_y": {
             "color": "#2a3f5f"
            },
            "marker": {
             "line": {
              "color": "#E5ECF6",
              "width": 0.5
             }
            },
            "type": "bar"
           }
          ],
          "barpolar": [
           {
            "marker": {
             "line": {
              "color": "#E5ECF6",
              "width": 0.5
             }
            },
            "type": "barpolar"
           }
          ],
          "carpet": [
           {
            "aaxis": {
             "endlinecolor": "#2a3f5f",
             "gridcolor": "white",
             "linecolor": "white",
             "minorgridcolor": "white",
             "startlinecolor": "#2a3f5f"
            },
            "baxis": {
             "endlinecolor": "#2a3f5f",
             "gridcolor": "white",
             "linecolor": "white",
             "minorgridcolor": "white",
             "startlinecolor": "#2a3f5f"
            },
            "type": "carpet"
           }
          ],
          "choropleth": [
           {
            "colorbar": {
             "outlinewidth": 0,
             "ticks": ""
            },
            "type": "choropleth"
           }
          ],
          "contour": [
           {
            "colorbar": {
             "outlinewidth": 0,
             "ticks": ""
            },
            "colorscale": [
             [
              0,
              "#0d0887"
             ],
             [
              0.1111111111111111,
              "#46039f"
             ],
             [
              0.2222222222222222,
              "#7201a8"
             ],
             [
              0.3333333333333333,
              "#9c179e"
             ],
             [
              0.4444444444444444,
              "#bd3786"
             ],
             [
              0.5555555555555556,
              "#d8576b"
             ],
             [
              0.6666666666666666,
              "#ed7953"
             ],
             [
              0.7777777777777778,
              "#fb9f3a"
             ],
             [
              0.8888888888888888,
              "#fdca26"
             ],
             [
              1,
              "#f0f921"
             ]
            ],
            "type": "contour"
           }
          ],
          "contourcarpet": [
           {
            "colorbar": {
             "outlinewidth": 0,
             "ticks": ""
            },
            "type": "contourcarpet"
           }
          ],
          "heatmap": [
           {
            "colorbar": {
             "outlinewidth": 0,
             "ticks": ""
            },
            "colorscale": [
             [
              0,
              "#0d0887"
             ],
             [
              0.1111111111111111,
              "#46039f"
             ],
             [
              0.2222222222222222,
              "#7201a8"
             ],
             [
              0.3333333333333333,
              "#9c179e"
             ],
             [
              0.4444444444444444,
              "#bd3786"
             ],
             [
              0.5555555555555556,
              "#d8576b"
             ],
             [
              0.6666666666666666,
              "#ed7953"
             ],
             [
              0.7777777777777778,
              "#fb9f3a"
             ],
             [
              0.8888888888888888,
              "#fdca26"
             ],
             [
              1,
              "#f0f921"
             ]
            ],
            "type": "heatmap"
           }
          ],
          "heatmapgl": [
           {
            "colorbar": {
             "outlinewidth": 0,
             "ticks": ""
            },
            "colorscale": [
             [
              0,
              "#0d0887"
             ],
             [
              0.1111111111111111,
              "#46039f"
             ],
             [
              0.2222222222222222,
              "#7201a8"
             ],
             [
              0.3333333333333333,
              "#9c179e"
             ],
             [
              0.4444444444444444,
              "#bd3786"
             ],
             [
              0.5555555555555556,
              "#d8576b"
             ],
             [
              0.6666666666666666,
              "#ed7953"
             ],
             [
              0.7777777777777778,
              "#fb9f3a"
             ],
             [
              0.8888888888888888,
              "#fdca26"
             ],
             [
              1,
              "#f0f921"
             ]
            ],
            "type": "heatmapgl"
           }
          ],
          "histogram": [
           {
            "marker": {
             "colorbar": {
              "outlinewidth": 0,
              "ticks": ""
             }
            },
            "type": "histogram"
           }
          ],
          "histogram2d": [
           {
            "colorbar": {
             "outlinewidth": 0,
             "ticks": ""
            },
            "colorscale": [
             [
              0,
              "#0d0887"
             ],
             [
              0.1111111111111111,
              "#46039f"
             ],
             [
              0.2222222222222222,
              "#7201a8"
             ],
             [
              0.3333333333333333,
              "#9c179e"
             ],
             [
              0.4444444444444444,
              "#bd3786"
             ],
             [
              0.5555555555555556,
              "#d8576b"
             ],
             [
              0.6666666666666666,
              "#ed7953"
             ],
             [
              0.7777777777777778,
              "#fb9f3a"
             ],
             [
              0.8888888888888888,
              "#fdca26"
             ],
             [
              1,
              "#f0f921"
             ]
            ],
            "type": "histogram2d"
           }
          ],
          "histogram2dcontour": [
           {
            "colorbar": {
             "outlinewidth": 0,
             "ticks": ""
            },
            "colorscale": [
             [
              0,
              "#0d0887"
             ],
             [
              0.1111111111111111,
              "#46039f"
             ],
             [
              0.2222222222222222,
              "#7201a8"
             ],
             [
              0.3333333333333333,
              "#9c179e"
             ],
             [
              0.4444444444444444,
              "#bd3786"
             ],
             [
              0.5555555555555556,
              "#d8576b"
             ],
             [
              0.6666666666666666,
              "#ed7953"
             ],
             [
              0.7777777777777778,
              "#fb9f3a"
             ],
             [
              0.8888888888888888,
              "#fdca26"
             ],
             [
              1,
              "#f0f921"
             ]
            ],
            "type": "histogram2dcontour"
           }
          ],
          "mesh3d": [
           {
            "colorbar": {
             "outlinewidth": 0,
             "ticks": ""
            },
            "type": "mesh3d"
           }
          ],
          "parcoords": [
           {
            "line": {
             "colorbar": {
              "outlinewidth": 0,
              "ticks": ""
             }
            },
            "type": "parcoords"
           }
          ],
          "pie": [
           {
            "automargin": true,
            "type": "pie"
           }
          ],
          "scatter": [
           {
            "marker": {
             "colorbar": {
              "outlinewidth": 0,
              "ticks": ""
             }
            },
            "type": "scatter"
           }
          ],
          "scatter3d": [
           {
            "line": {
             "colorbar": {
              "outlinewidth": 0,
              "ticks": ""
             }
            },
            "marker": {
             "colorbar": {
              "outlinewidth": 0,
              "ticks": ""
             }
            },
            "type": "scatter3d"
           }
          ],
          "scattercarpet": [
           {
            "marker": {
             "colorbar": {
              "outlinewidth": 0,
              "ticks": ""
             }
            },
            "type": "scattercarpet"
           }
          ],
          "scattergeo": [
           {
            "marker": {
             "colorbar": {
              "outlinewidth": 0,
              "ticks": ""
             }
            },
            "type": "scattergeo"
           }
          ],
          "scattergl": [
           {
            "marker": {
             "colorbar": {
              "outlinewidth": 0,
              "ticks": ""
             }
            },
            "type": "scattergl"
           }
          ],
          "scattermapbox": [
           {
            "marker": {
             "colorbar": {
              "outlinewidth": 0,
              "ticks": ""
             }
            },
            "type": "scattermapbox"
           }
          ],
          "scatterpolar": [
           {
            "marker": {
             "colorbar": {
              "outlinewidth": 0,
              "ticks": ""
             }
            },
            "type": "scatterpolar"
           }
          ],
          "scatterpolargl": [
           {
            "marker": {
             "colorbar": {
              "outlinewidth": 0,
              "ticks": ""
             }
            },
            "type": "scatterpolargl"
           }
          ],
          "scatterternary": [
           {
            "marker": {
             "colorbar": {
              "outlinewidth": 0,
              "ticks": ""
             }
            },
            "type": "scatterternary"
           }
          ],
          "surface": [
           {
            "colorbar": {
             "outlinewidth": 0,
             "ticks": ""
            },
            "colorscale": [
             [
              0,
              "#0d0887"
             ],
             [
              0.1111111111111111,
              "#46039f"
             ],
             [
              0.2222222222222222,
              "#7201a8"
             ],
             [
              0.3333333333333333,
              "#9c179e"
             ],
             [
              0.4444444444444444,
              "#bd3786"
             ],
             [
              0.5555555555555556,
              "#d8576b"
             ],
             [
              0.6666666666666666,
              "#ed7953"
             ],
             [
              0.7777777777777778,
              "#fb9f3a"
             ],
             [
              0.8888888888888888,
              "#fdca26"
             ],
             [
              1,
              "#f0f921"
             ]
            ],
            "type": "surface"
           }
          ],
          "table": [
           {
            "cells": {
             "fill": {
              "color": "#EBF0F8"
             },
             "line": {
              "color": "white"
             }
            },
            "header": {
             "fill": {
              "color": "#C8D4E3"
             },
             "line": {
              "color": "white"
             }
            },
            "type": "table"
           }
          ]
         },
         "layout": {
          "annotationdefaults": {
           "arrowcolor": "#2a3f5f",
           "arrowhead": 0,
           "arrowwidth": 1
          },
          "autotypenumbers": "strict",
          "coloraxis": {
           "colorbar": {
            "outlinewidth": 0,
            "ticks": ""
           }
          },
          "colorscale": {
           "diverging": [
            [
             0,
             "#8e0152"
            ],
            [
             0.1,
             "#c51b7d"
            ],
            [
             0.2,
             "#de77ae"
            ],
            [
             0.3,
             "#f1b6da"
            ],
            [
             0.4,
             "#fde0ef"
            ],
            [
             0.5,
             "#f7f7f7"
            ],
            [
             0.6,
             "#e6f5d0"
            ],
            [
             0.7,
             "#b8e186"
            ],
            [
             0.8,
             "#7fbc41"
            ],
            [
             0.9,
             "#4d9221"
            ],
            [
             1,
             "#276419"
            ]
           ],
           "sequential": [
            [
             0,
             "#0d0887"
            ],
            [
             0.1111111111111111,
             "#46039f"
            ],
            [
             0.2222222222222222,
             "#7201a8"
            ],
            [
             0.3333333333333333,
             "#9c179e"
            ],
            [
             0.4444444444444444,
             "#bd3786"
            ],
            [
             0.5555555555555556,
             "#d8576b"
            ],
            [
             0.6666666666666666,
             "#ed7953"
            ],
            [
             0.7777777777777778,
             "#fb9f3a"
            ],
            [
             0.8888888888888888,
             "#fdca26"
            ],
            [
             1,
             "#f0f921"
            ]
           ],
           "sequentialminus": [
            [
             0,
             "#0d0887"
            ],
            [
             0.1111111111111111,
             "#46039f"
            ],
            [
             0.2222222222222222,
             "#7201a8"
            ],
            [
             0.3333333333333333,
             "#9c179e"
            ],
            [
             0.4444444444444444,
             "#bd3786"
            ],
            [
             0.5555555555555556,
             "#d8576b"
            ],
            [
             0.6666666666666666,
             "#ed7953"
            ],
            [
             0.7777777777777778,
             "#fb9f3a"
            ],
            [
             0.8888888888888888,
             "#fdca26"
            ],
            [
             1,
             "#f0f921"
            ]
           ]
          },
          "colorway": [
           "#636efa",
           "#EF553B",
           "#00cc96",
           "#ab63fa",
           "#FFA15A",
           "#19d3f3",
           "#FF6692",
           "#B6E880",
           "#FF97FF",
           "#FECB52"
          ],
          "font": {
           "color": "#2a3f5f"
          },
          "geo": {
           "bgcolor": "white",
           "lakecolor": "white",
           "landcolor": "#E5ECF6",
           "showlakes": true,
           "showland": true,
           "subunitcolor": "white"
          },
          "hoverlabel": {
           "align": "left"
          },
          "hovermode": "closest",
          "mapbox": {
           "style": "light"
          },
          "paper_bgcolor": "white",
          "plot_bgcolor": "#E5ECF6",
          "polar": {
           "angularaxis": {
            "gridcolor": "white",
            "linecolor": "white",
            "ticks": ""
           },
           "bgcolor": "#E5ECF6",
           "radialaxis": {
            "gridcolor": "white",
            "linecolor": "white",
            "ticks": ""
           }
          },
          "scene": {
           "xaxis": {
            "backgroundcolor": "#E5ECF6",
            "gridcolor": "white",
            "gridwidth": 2,
            "linecolor": "white",
            "showbackground": true,
            "ticks": "",
            "zerolinecolor": "white"
           },
           "yaxis": {
            "backgroundcolor": "#E5ECF6",
            "gridcolor": "white",
            "gridwidth": 2,
            "linecolor": "white",
            "showbackground": true,
            "ticks": "",
            "zerolinecolor": "white"
           },
           "zaxis": {
            "backgroundcolor": "#E5ECF6",
            "gridcolor": "white",
            "gridwidth": 2,
            "linecolor": "white",
            "showbackground": true,
            "ticks": "",
            "zerolinecolor": "white"
           }
          },
          "shapedefaults": {
           "line": {
            "color": "#2a3f5f"
           }
          },
          "ternary": {
           "aaxis": {
            "gridcolor": "white",
            "linecolor": "white",
            "ticks": ""
           },
           "baxis": {
            "gridcolor": "white",
            "linecolor": "white",
            "ticks": ""
           },
           "bgcolor": "#E5ECF6",
           "caxis": {
            "gridcolor": "white",
            "linecolor": "white",
            "ticks": ""
           }
          },
          "title": {
           "x": 0.05
          },
          "xaxis": {
           "automargin": true,
           "gridcolor": "white",
           "linecolor": "white",
           "ticks": "",
           "title": {
            "standoff": 15
           },
           "zerolinecolor": "white",
           "zerolinewidth": 2
          },
          "yaxis": {
           "automargin": true,
           "gridcolor": "white",
           "linecolor": "white",
           "ticks": "",
           "title": {
            "standoff": 15
           },
           "zerolinecolor": "white",
           "zerolinewidth": 2
          }
         }
        },
        "title": {
         "text": "Investor to Producer"
        }
       }
      },
      "text/html": [
       "<div>                            <div id=\"496d463f-8e0a-4153-a0c4-213cf9a1d9ac\" class=\"plotly-graph-div\" style=\"height:525px; width:100%;\"></div>            <script type=\"text/javascript\">                require([\"plotly\"], function(Plotly) {                    window.PLOTLYENV=window.PLOTLYENV || {};                                    if (document.getElementById(\"496d463f-8e0a-4153-a0c4-213cf9a1d9ac\")) {                    Plotly.newPlot(                        \"496d463f-8e0a-4153-a0c4-213cf9a1d9ac\",                        [{\"link\": {\"source\": [6, 6, 8, 8, 5, 0, 7, 2, 4, 3, 3, 3, 9, 9, 9, 9, 9, 1, 1, 1, 1, 1], \"target\": [39, 40, 12, 34, 10, 36, 23, 24, 32, 36, 27, 17, 36, 27, 17, 21, 19, 36, 27, 17, 21, 19], \"value\": [36281.75221556275, 6521.677348818272, 2039.1825217587, 1785.80803164601, 3254.174982893389, 3078.284791053483, 2765.483741267275, 2613.863198894743, 2284.225036150862, 354.4819597638086, 707.7917183426736, 1117.749871722406, 137.1224727103461, 483.0014773277353, 604.9503767495884, 207.8756828091169, 516.2011528531106, 109.5532259318637, 435.8756801329945, 447.6673668589315, 145.869177382952, 411.0509801093805]}, \"node\": {\"color\": \"black\", \"label\": [\"AMBANI FAMILY\", \"BLACKROCK INC\", \"CANOPUS INTERNATIONAL LTD\", \"CAPITAL GROUP COS INC/THE\", \"EAST STEP INTERNATIONAL HOLDIN\", \"EMIRATE OF ABU DHABI UNITED ARAB EMIRATES\", \"KINGDOM OF SAUDI ARABIA\", \"MR JAMES ARTHUR RATCLIFFE\", \"PEOPLE'S REPUBLIC OF CHINA\", \"VANGUARD GROUP INC/THE\", \"ABU DHABI NATIONAL OIL COMPANY (ADNOC)\", \"BOREALIS AG\", \"Braskem SA\", \"CHINA ENERGY INVESTMENT GROUP CO., LTD.\", \"CNOOC Ltd\", \"Chandra Asri Petrochemical Tbk\", \"Chevron Corp\", \"China Petroleum & Chemical Corp\", \"Dow Inc\", \"Ecopetrol SA\", \"Exxon Mobil Corp\", \"Far Eastern New Century Corp\", \"Formosa Plastics Corp\", \"GAIL India Ltd\", \"INEOS LIMITED\", \"Indorama Ventures PCL\", \"LG Chem Ltd\", \"Lotte Chemical Corp\", \"LyondellBasell Industries NV\", \"Mesaieed Petrochemical Holding\", \"NOVA CHEMICALS CORPORATION\", \"Nan Ya Plastics Corp\", \"National Petrochemical Co\", \"Ningxia Baofeng Energy Group C\", \"PTT PCL\", \"PetroChina Co Ltd\", \"Petronas Chemicals Group Bhd\", \"Reliance Industries Ltd\", \"Rongsheng Petro Chemical Co Lt\", \"SHAANXI YANCHANG PETROLEUM (GROUP) CO., LTD.\", \"Saudi Arabian Oil Co\", \"Saudi Basic Industries Corp\", \"Saudi Kayan Petrochemical Co\", \"Siam Cement PCL/The\", \"TOTAL SE\", \"Westlake Chemical Corp\", \"Yanbu National Petrochemical C\", \"Zhejiang Satellite Petrochemic\"], \"line\": {\"color\": \"black\", \"width\": 0.5}, \"pad\": 15, \"thickness\": 20}, \"type\": \"sankey\"}],                        {\"font\": {\"size\": 10}, \"template\": {\"data\": {\"bar\": [{\"error_x\": {\"color\": \"#2a3f5f\"}, \"error_y\": {\"color\": \"#2a3f5f\"}, \"marker\": {\"line\": {\"color\": \"#E5ECF6\", \"width\": 0.5}}, \"type\": \"bar\"}], \"barpolar\": [{\"marker\": {\"line\": {\"color\": \"#E5ECF6\", \"width\": 0.5}}, \"type\": \"barpolar\"}], \"carpet\": [{\"aaxis\": {\"endlinecolor\": \"#2a3f5f\", \"gridcolor\": \"white\", \"linecolor\": \"white\", \"minorgridcolor\": \"white\", \"startlinecolor\": \"#2a3f5f\"}, \"baxis\": {\"endlinecolor\": \"#2a3f5f\", \"gridcolor\": \"white\", \"linecolor\": \"white\", \"minorgridcolor\": \"white\", \"startlinecolor\": \"#2a3f5f\"}, \"type\": \"carpet\"}], \"choropleth\": [{\"colorbar\": {\"outlinewidth\": 0, \"ticks\": \"\"}, \"type\": \"choropleth\"}], \"contour\": [{\"colorbar\": {\"outlinewidth\": 0, \"ticks\": \"\"}, \"colorscale\": [[0.0, \"#0d0887\"], [0.1111111111111111, \"#46039f\"], [0.2222222222222222, \"#7201a8\"], [0.3333333333333333, \"#9c179e\"], [0.4444444444444444, \"#bd3786\"], [0.5555555555555556, \"#d8576b\"], [0.6666666666666666, \"#ed7953\"], [0.7777777777777778, \"#fb9f3a\"], [0.8888888888888888, \"#fdca26\"], [1.0, \"#f0f921\"]], \"type\": \"contour\"}], \"contourcarpet\": [{\"colorbar\": {\"outlinewidth\": 0, \"ticks\": \"\"}, \"type\": \"contourcarpet\"}], \"heatmap\": [{\"colorbar\": {\"outlinewidth\": 0, \"ticks\": \"\"}, \"colorscale\": [[0.0, \"#0d0887\"], [0.1111111111111111, \"#46039f\"], [0.2222222222222222, \"#7201a8\"], [0.3333333333333333, \"#9c179e\"], [0.4444444444444444, \"#bd3786\"], [0.5555555555555556, \"#d8576b\"], [0.6666666666666666, \"#ed7953\"], [0.7777777777777778, \"#fb9f3a\"], [0.8888888888888888, \"#fdca26\"], [1.0, \"#f0f921\"]], \"type\": \"heatmap\"}], \"heatmapgl\": [{\"colorbar\": {\"outlinewidth\": 0, \"ticks\": \"\"}, \"colorscale\": [[0.0, \"#0d0887\"], [0.1111111111111111, \"#46039f\"], [0.2222222222222222, \"#7201a8\"], [0.3333333333333333, \"#9c179e\"], [0.4444444444444444, \"#bd3786\"], [0.5555555555555556, \"#d8576b\"], [0.6666666666666666, \"#ed7953\"], [0.7777777777777778, \"#fb9f3a\"], [0.8888888888888888, \"#fdca26\"], [1.0, \"#f0f921\"]], \"type\": \"heatmapgl\"}], \"histogram\": [{\"marker\": {\"colorbar\": {\"outlinewidth\": 0, \"ticks\": \"\"}}, \"type\": \"histogram\"}], \"histogram2d\": [{\"colorbar\": {\"outlinewidth\": 0, \"ticks\": \"\"}, \"colorscale\": [[0.0, \"#0d0887\"], [0.1111111111111111, \"#46039f\"], [0.2222222222222222, \"#7201a8\"], [0.3333333333333333, \"#9c179e\"], [0.4444444444444444, \"#bd3786\"], [0.5555555555555556, \"#d8576b\"], [0.6666666666666666, \"#ed7953\"], [0.7777777777777778, \"#fb9f3a\"], [0.8888888888888888, \"#fdca26\"], [1.0, \"#f0f921\"]], \"type\": \"histogram2d\"}], \"histogram2dcontour\": [{\"colorbar\": {\"outlinewidth\": 0, \"ticks\": \"\"}, \"colorscale\": [[0.0, \"#0d0887\"], [0.1111111111111111, \"#46039f\"], [0.2222222222222222, \"#7201a8\"], [0.3333333333333333, \"#9c179e\"], [0.4444444444444444, \"#bd3786\"], [0.5555555555555556, \"#d8576b\"], [0.6666666666666666, \"#ed7953\"], [0.7777777777777778, \"#fb9f3a\"], [0.8888888888888888, \"#fdca26\"], [1.0, \"#f0f921\"]], \"type\": \"histogram2dcontour\"}], \"mesh3d\": [{\"colorbar\": {\"outlinewidth\": 0, \"ticks\": \"\"}, \"type\": \"mesh3d\"}], \"parcoords\": [{\"line\": {\"colorbar\": {\"outlinewidth\": 0, \"ticks\": \"\"}}, \"type\": \"parcoords\"}], \"pie\": [{\"automargin\": true, \"type\": \"pie\"}], \"scatter\": [{\"marker\": {\"colorbar\": {\"outlinewidth\": 0, \"ticks\": \"\"}}, \"type\": \"scatter\"}], \"scatter3d\": [{\"line\": {\"colorbar\": {\"outlinewidth\": 0, \"ticks\": \"\"}}, \"marker\": {\"colorbar\": {\"outlinewidth\": 0, \"ticks\": \"\"}}, \"type\": \"scatter3d\"}], \"scattercarpet\": [{\"marker\": {\"colorbar\": {\"outlinewidth\": 0, \"ticks\": \"\"}}, \"type\": \"scattercarpet\"}], \"scattergeo\": [{\"marker\": {\"colorbar\": {\"outlinewidth\": 0, \"ticks\": \"\"}}, \"type\": \"scattergeo\"}], \"scattergl\": [{\"marker\": {\"colorbar\": {\"outlinewidth\": 0, \"ticks\": \"\"}}, \"type\": \"scattergl\"}], \"scattermapbox\": [{\"marker\": {\"colorbar\": {\"outlinewidth\": 0, \"ticks\": \"\"}}, \"type\": \"scattermapbox\"}], \"scatterpolar\": [{\"marker\": {\"colorbar\": {\"outlinewidth\": 0, \"ticks\": \"\"}}, \"type\": \"scatterpolar\"}], \"scatterpolargl\": [{\"marker\": {\"colorbar\": {\"outlinewidth\": 0, \"ticks\": \"\"}}, \"type\": \"scatterpolargl\"}], \"scatterternary\": [{\"marker\": {\"colorbar\": {\"outlinewidth\": 0, \"ticks\": \"\"}}, \"type\": \"scatterternary\"}], \"surface\": [{\"colorbar\": {\"outlinewidth\": 0, \"ticks\": \"\"}, \"colorscale\": [[0.0, \"#0d0887\"], [0.1111111111111111, \"#46039f\"], [0.2222222222222222, \"#7201a8\"], [0.3333333333333333, \"#9c179e\"], [0.4444444444444444, \"#bd3786\"], [0.5555555555555556, \"#d8576b\"], [0.6666666666666666, \"#ed7953\"], [0.7777777777777778, \"#fb9f3a\"], [0.8888888888888888, \"#fdca26\"], [1.0, \"#f0f921\"]], \"type\": \"surface\"}], \"table\": [{\"cells\": {\"fill\": {\"color\": \"#EBF0F8\"}, \"line\": {\"color\": \"white\"}}, \"header\": {\"fill\": {\"color\": \"#C8D4E3\"}, \"line\": {\"color\": \"white\"}}, \"type\": \"table\"}]}, \"layout\": {\"annotationdefaults\": {\"arrowcolor\": \"#2a3f5f\", \"arrowhead\": 0, \"arrowwidth\": 1}, \"autotypenumbers\": \"strict\", \"coloraxis\": {\"colorbar\": {\"outlinewidth\": 0, \"ticks\": \"\"}}, \"colorscale\": {\"diverging\": [[0, \"#8e0152\"], [0.1, \"#c51b7d\"], [0.2, \"#de77ae\"], [0.3, \"#f1b6da\"], [0.4, \"#fde0ef\"], [0.5, \"#f7f7f7\"], [0.6, \"#e6f5d0\"], [0.7, \"#b8e186\"], [0.8, \"#7fbc41\"], [0.9, \"#4d9221\"], [1, \"#276419\"]], \"sequential\": [[0.0, \"#0d0887\"], [0.1111111111111111, \"#46039f\"], [0.2222222222222222, \"#7201a8\"], [0.3333333333333333, \"#9c179e\"], [0.4444444444444444, \"#bd3786\"], [0.5555555555555556, \"#d8576b\"], [0.6666666666666666, \"#ed7953\"], [0.7777777777777778, \"#fb9f3a\"], [0.8888888888888888, \"#fdca26\"], [1.0, \"#f0f921\"]], \"sequentialminus\": [[0.0, \"#0d0887\"], [0.1111111111111111, \"#46039f\"], [0.2222222222222222, \"#7201a8\"], [0.3333333333333333, \"#9c179e\"], [0.4444444444444444, \"#bd3786\"], [0.5555555555555556, \"#d8576b\"], [0.6666666666666666, \"#ed7953\"], [0.7777777777777778, \"#fb9f3a\"], [0.8888888888888888, \"#fdca26\"], [1.0, \"#f0f921\"]]}, \"colorway\": [\"#636efa\", \"#EF553B\", \"#00cc96\", \"#ab63fa\", \"#FFA15A\", \"#19d3f3\", \"#FF6692\", \"#B6E880\", \"#FF97FF\", \"#FECB52\"], \"font\": {\"color\": \"#2a3f5f\"}, \"geo\": {\"bgcolor\": \"white\", \"lakecolor\": \"white\", \"landcolor\": \"#E5ECF6\", \"showlakes\": true, \"showland\": true, \"subunitcolor\": \"white\"}, \"hoverlabel\": {\"align\": \"left\"}, \"hovermode\": \"closest\", \"mapbox\": {\"style\": \"light\"}, \"paper_bgcolor\": \"white\", \"plot_bgcolor\": \"#E5ECF6\", \"polar\": {\"angularaxis\": {\"gridcolor\": \"white\", \"linecolor\": \"white\", \"ticks\": \"\"}, \"bgcolor\": \"#E5ECF6\", \"radialaxis\": {\"gridcolor\": \"white\", \"linecolor\": \"white\", \"ticks\": \"\"}}, \"scene\": {\"xaxis\": {\"backgroundcolor\": \"#E5ECF6\", \"gridcolor\": \"white\", \"gridwidth\": 2, \"linecolor\": \"white\", \"showbackground\": true, \"ticks\": \"\", \"zerolinecolor\": \"white\"}, \"yaxis\": {\"backgroundcolor\": \"#E5ECF6\", \"gridcolor\": \"white\", \"gridwidth\": 2, \"linecolor\": \"white\", \"showbackground\": true, \"ticks\": \"\", \"zerolinecolor\": \"white\"}, \"zaxis\": {\"backgroundcolor\": \"#E5ECF6\", \"gridcolor\": \"white\", \"gridwidth\": 2, \"linecolor\": \"white\", \"showbackground\": true, \"ticks\": \"\", \"zerolinecolor\": \"white\"}}, \"shapedefaults\": {\"line\": {\"color\": \"#2a3f5f\"}}, \"ternary\": {\"aaxis\": {\"gridcolor\": \"white\", \"linecolor\": \"white\", \"ticks\": \"\"}, \"baxis\": {\"gridcolor\": \"white\", \"linecolor\": \"white\", \"ticks\": \"\"}, \"bgcolor\": \"#E5ECF6\", \"caxis\": {\"gridcolor\": \"white\", \"linecolor\": \"white\", \"ticks\": \"\"}}, \"title\": {\"x\": 0.05}, \"xaxis\": {\"automargin\": true, \"gridcolor\": \"white\", \"linecolor\": \"white\", \"ticks\": \"\", \"title\": {\"standoff\": 15}, \"zerolinecolor\": \"white\", \"zerolinewidth\": 2}, \"yaxis\": {\"automargin\": true, \"gridcolor\": \"white\", \"linecolor\": \"white\", \"ticks\": \"\", \"title\": {\"standoff\": 15}, \"zerolinecolor\": \"white\", \"zerolinewidth\": 2}}}, \"title\": {\"text\": \"Investor to Producer\"}},                        {\"responsive\": true}                    ).then(function(){\n",
       "                            \n",
       "var gd = document.getElementById('496d463f-8e0a-4153-a0c4-213cf9a1d9ac');\n",
       "var x = new MutationObserver(function (mutations, observer) {{\n",
       "        var display = window.getComputedStyle(gd).display;\n",
       "        if (!display || display === 'none') {{\n",
       "            console.log([gd, 'removed!']);\n",
       "            Plotly.purge(gd);\n",
       "            observer.disconnect();\n",
       "        }}\n",
       "}});\n",
       "\n",
       "// Listen for the removal of the full notebook cells\n",
       "var notebookContainer = gd.closest('#notebook-container');\n",
       "if (notebookContainer) {{\n",
       "    x.observe(notebookContainer, {childList: true});\n",
       "}}\n",
       "\n",
       "// Listen for the clearing of the current output cell\n",
       "var outputEl = gd.closest('.output');\n",
       "if (outputEl) {{\n",
       "    x.observe(outputEl, {childList: true});\n",
       "}}\n",
       "\n",
       "                        })                };                });            </script>        </div>"
      ]
     },
     "metadata": {},
     "output_type": "display_data"
    }
   ],
   "source": [
    "sankey_plot = plot_sankey(sankey_dict, 'Investor to Producer')\n",
    "sankey_plot.show()"
   ]
  },
  {
   "cell_type": "markdown",
   "metadata": {},
   "source": [
    "## Create Financer Sankey"
   ]
  },
  {
   "cell_type": "code",
   "execution_count": 471,
   "metadata": {},
   "outputs": [],
   "source": [
    "filtered_df = filter_df(financer, num_sources=10, num_targets=15)"
   ]
  },
  {
   "cell_type": "code",
   "execution_count": 472,
   "metadata": {},
   "outputs": [
    {
     "data": {
      "application/vnd.plotly.v1+json": {
       "config": {
        "plotlyServerURL": "https://plot.ly"
       },
       "data": [
        {
         "link": {
          "source": [
           1,
           1,
           1,
           1,
           1,
           1,
           1,
           1,
           5,
           5,
           5,
           5,
           5,
           5,
           5,
           5,
           5,
           5,
           5,
           2,
           2,
           2,
           2,
           2,
           2,
           2,
           2,
           2,
           2,
           0,
           0,
           0,
           0,
           0,
           0,
           0,
           0,
           0,
           4,
           4,
           4,
           4,
           4,
           4,
           4,
           4,
           4,
           4,
           4,
           4,
           6,
           6,
           6,
           6,
           6,
           6,
           6,
           6,
           6,
           6,
           6,
           3,
           3,
           3,
           3,
           3,
           3,
           3,
           9,
           9,
           9,
           7,
           7,
           7,
           7,
           7,
           7,
           7,
           7,
           7,
           8,
           8,
           8,
           8,
           8,
           8,
           8
          ],
          "target": [
           null,
           10,
           23,
           27,
           17,
           19,
           36,
           29,
           null,
           10,
           23,
           27,
           17,
           11,
           19,
           39,
           36,
           null,
           null,
           null,
           10,
           23,
           27,
           17,
           11,
           19,
           39,
           36,
           null,
           null,
           10,
           23,
           27,
           17,
           11,
           24,
           19,
           36,
           null,
           10,
           23,
           27,
           17,
           11,
           24,
           19,
           39,
           36,
           null,
           29,
           null,
           10,
           27,
           17,
           11,
           24,
           21,
           39,
           36,
           null,
           null,
           null,
           10,
           23,
           27,
           17,
           11,
           null,
           null,
           10,
           27,
           null,
           10,
           27,
           17,
           11,
           24,
           21,
           39,
           null,
           null,
           10,
           27,
           17,
           11,
           39,
           null
          ],
          "value": [
           7616.337514872175,
           1890.5274831504614,
           3060.8868581978727,
           1417.3327671737807,
           173.81288447838347,
           301.05142552259167,
           100.08980069425385,
           290.4263746812078,
           6998.480316568065,
           764.2433893581599,
           2804.7230101120977,
           731.731530673419,
           142.21510934646943,
           106.98370916338095,
           615.4174641642605,
           169.2088839516584,
           113.72898583985595,
           439.9529737572747,
           299.5218074438451,
           6923.347486708095,
           912.3802078608372,
           1212.1837901487952,
           942.4340348274907,
           1015.01702333602,
           519.320566286935,
           571.8665799304023,
           279.47107463107494,
           174.99178417880705,
           420.0518166978108,
           6067.817899645234,
           288.7553803276317,
           2265.8510388995546,
           909.3823563316586,
           573.5441047697689,
           109.76806989068791,
           484.3948255076693,
           510.0974976510601,
           137.6965523483557,
           5165.508740094389,
           153.6497201467447,
           703.6414139026331,
           416.20100293497916,
           862.2037723674243,
           254.02208340375486,
           350.1445179336839,
           317.285085987338,
           151.29153304971413,
           158.33112170737755,
           508.19491264760484,
           545.5534545810274,
           3950.9509408210897,
           1531.9838664327315,
           150.56920668372527,
           149.5513090653602,
           183.8933016506307,
           122.20828258725408,
           125.23333024568187,
           122.74079569399764,
           128.02813593956952,
           125.88463692478729,
           237.5978624764164,
           3369.9644324501523,
           474.21292770265444,
           338.4796796554225,
           1148.6881013157085,
           198.6697128958987,
           187.90234374471217,
           417.3337069687139,
           3100.9203070474023,
           2477.195610160674,
           292.5138654083921,
           3184.770015106448,
           420.7287259343586,
           573.1535470308498,
           382.24968908538597,
           106.847411856367,
           142.92322267004002,
           195.57132175291108,
           129.02993049592615,
           246.70691881378028,
           2908.8140399968793,
           267.6111903897372,
           187.50393729084198,
           548.8996611396997,
           517.8191052394914,
           175.7899774645593,
           359.0745390440734
          ]
         },
         "node": {
          "color": "black",
          "label": [
           "Bank of America",
           "Barclays",
           "Citigroup",
           "Deutsche Bank",
           "HSBC",
           "JPMorgan Chase",
           "Mitsubishi UFJ Financial",
           "Mizuho Financial",
           "SMBC Group",
           "UniCredit",
           "ABU DHABI NATIONAL OIL COMPANY (ADNOC)",
           "BOREALIS AG",
           "Braskem SA",
           "CHINA ENERGY INVESTMENT GROUP CO., LTD.",
           "CNOOC Ltd",
           "Chandra Asri Petrochemical Tbk",
           "Chevron Corp",
           "China Petroleum & Chemical Corp",
           "Dow Inc",
           "Ecopetrol SA",
           "Exxon Mobil Corp",
           "Far Eastern New Century Corp",
           "Formosa Plastics Corp",
           "GAIL India Ltd",
           "INEOS LIMITED",
           "Indorama Ventures PCL",
           "LG Chem Ltd",
           "Lotte Chemical Corp",
           "LyondellBasell Industries NV",
           "Mesaieed Petrochemical Holding",
           "NOVA CHEMICALS CORPORATION",
           "Nan Ya Plastics Corp",
           "National Petrochemical Co",
           "Ningxia Baofeng Energy Group C",
           "PTT PCL",
           "PetroChina Co Ltd",
           "Petronas Chemicals Group Bhd",
           "Reliance Industries Ltd",
           "Rongsheng Petro Chemical Co Lt",
           "SHAANXI YANCHANG PETROLEUM (GROUP) CO., LTD.",
           "Saudi Arabian Oil Co",
           "Saudi Basic Industries Corp",
           "Saudi Kayan Petrochemical Co",
           "Siam Cement PCL/The",
           "TOTAL SE",
           "Westlake Chemical Corp",
           "Yanbu National Petrochemical C",
           "Zhejiang Satellite Petrochemic"
          ],
          "line": {
           "color": "black",
           "width": 0.5
          },
          "pad": 15,
          "thickness": 20
         },
         "type": "sankey"
        }
       ],
       "layout": {
        "font": {
         "size": 10
        },
        "template": {
         "data": {
          "bar": [
           {
            "error_x": {
             "color": "#2a3f5f"
            },
            "error_y": {
             "color": "#2a3f5f"
            },
            "marker": {
             "line": {
              "color": "#E5ECF6",
              "width": 0.5
             }
            },
            "type": "bar"
           }
          ],
          "barpolar": [
           {
            "marker": {
             "line": {
              "color": "#E5ECF6",
              "width": 0.5
             }
            },
            "type": "barpolar"
           }
          ],
          "carpet": [
           {
            "aaxis": {
             "endlinecolor": "#2a3f5f",
             "gridcolor": "white",
             "linecolor": "white",
             "minorgridcolor": "white",
             "startlinecolor": "#2a3f5f"
            },
            "baxis": {
             "endlinecolor": "#2a3f5f",
             "gridcolor": "white",
             "linecolor": "white",
             "minorgridcolor": "white",
             "startlinecolor": "#2a3f5f"
            },
            "type": "carpet"
           }
          ],
          "choropleth": [
           {
            "colorbar": {
             "outlinewidth": 0,
             "ticks": ""
            },
            "type": "choropleth"
           }
          ],
          "contour": [
           {
            "colorbar": {
             "outlinewidth": 0,
             "ticks": ""
            },
            "colorscale": [
             [
              0,
              "#0d0887"
             ],
             [
              0.1111111111111111,
              "#46039f"
             ],
             [
              0.2222222222222222,
              "#7201a8"
             ],
             [
              0.3333333333333333,
              "#9c179e"
             ],
             [
              0.4444444444444444,
              "#bd3786"
             ],
             [
              0.5555555555555556,
              "#d8576b"
             ],
             [
              0.6666666666666666,
              "#ed7953"
             ],
             [
              0.7777777777777778,
              "#fb9f3a"
             ],
             [
              0.8888888888888888,
              "#fdca26"
             ],
             [
              1,
              "#f0f921"
             ]
            ],
            "type": "contour"
           }
          ],
          "contourcarpet": [
           {
            "colorbar": {
             "outlinewidth": 0,
             "ticks": ""
            },
            "type": "contourcarpet"
           }
          ],
          "heatmap": [
           {
            "colorbar": {
             "outlinewidth": 0,
             "ticks": ""
            },
            "colorscale": [
             [
              0,
              "#0d0887"
             ],
             [
              0.1111111111111111,
              "#46039f"
             ],
             [
              0.2222222222222222,
              "#7201a8"
             ],
             [
              0.3333333333333333,
              "#9c179e"
             ],
             [
              0.4444444444444444,
              "#bd3786"
             ],
             [
              0.5555555555555556,
              "#d8576b"
             ],
             [
              0.6666666666666666,
              "#ed7953"
             ],
             [
              0.7777777777777778,
              "#fb9f3a"
             ],
             [
              0.8888888888888888,
              "#fdca26"
             ],
             [
              1,
              "#f0f921"
             ]
            ],
            "type": "heatmap"
           }
          ],
          "heatmapgl": [
           {
            "colorbar": {
             "outlinewidth": 0,
             "ticks": ""
            },
            "colorscale": [
             [
              0,
              "#0d0887"
             ],
             [
              0.1111111111111111,
              "#46039f"
             ],
             [
              0.2222222222222222,
              "#7201a8"
             ],
             [
              0.3333333333333333,
              "#9c179e"
             ],
             [
              0.4444444444444444,
              "#bd3786"
             ],
             [
              0.5555555555555556,
              "#d8576b"
             ],
             [
              0.6666666666666666,
              "#ed7953"
             ],
             [
              0.7777777777777778,
              "#fb9f3a"
             ],
             [
              0.8888888888888888,
              "#fdca26"
             ],
             [
              1,
              "#f0f921"
             ]
            ],
            "type": "heatmapgl"
           }
          ],
          "histogram": [
           {
            "marker": {
             "colorbar": {
              "outlinewidth": 0,
              "ticks": ""
             }
            },
            "type": "histogram"
           }
          ],
          "histogram2d": [
           {
            "colorbar": {
             "outlinewidth": 0,
             "ticks": ""
            },
            "colorscale": [
             [
              0,
              "#0d0887"
             ],
             [
              0.1111111111111111,
              "#46039f"
             ],
             [
              0.2222222222222222,
              "#7201a8"
             ],
             [
              0.3333333333333333,
              "#9c179e"
             ],
             [
              0.4444444444444444,
              "#bd3786"
             ],
             [
              0.5555555555555556,
              "#d8576b"
             ],
             [
              0.6666666666666666,
              "#ed7953"
             ],
             [
              0.7777777777777778,
              "#fb9f3a"
             ],
             [
              0.8888888888888888,
              "#fdca26"
             ],
             [
              1,
              "#f0f921"
             ]
            ],
            "type": "histogram2d"
           }
          ],
          "histogram2dcontour": [
           {
            "colorbar": {
             "outlinewidth": 0,
             "ticks": ""
            },
            "colorscale": [
             [
              0,
              "#0d0887"
             ],
             [
              0.1111111111111111,
              "#46039f"
             ],
             [
              0.2222222222222222,
              "#7201a8"
             ],
             [
              0.3333333333333333,
              "#9c179e"
             ],
             [
              0.4444444444444444,
              "#bd3786"
             ],
             [
              0.5555555555555556,
              "#d8576b"
             ],
             [
              0.6666666666666666,
              "#ed7953"
             ],
             [
              0.7777777777777778,
              "#fb9f3a"
             ],
             [
              0.8888888888888888,
              "#fdca26"
             ],
             [
              1,
              "#f0f921"
             ]
            ],
            "type": "histogram2dcontour"
           }
          ],
          "mesh3d": [
           {
            "colorbar": {
             "outlinewidth": 0,
             "ticks": ""
            },
            "type": "mesh3d"
           }
          ],
          "parcoords": [
           {
            "line": {
             "colorbar": {
              "outlinewidth": 0,
              "ticks": ""
             }
            },
            "type": "parcoords"
           }
          ],
          "pie": [
           {
            "automargin": true,
            "type": "pie"
           }
          ],
          "scatter": [
           {
            "marker": {
             "colorbar": {
              "outlinewidth": 0,
              "ticks": ""
             }
            },
            "type": "scatter"
           }
          ],
          "scatter3d": [
           {
            "line": {
             "colorbar": {
              "outlinewidth": 0,
              "ticks": ""
             }
            },
            "marker": {
             "colorbar": {
              "outlinewidth": 0,
              "ticks": ""
             }
            },
            "type": "scatter3d"
           }
          ],
          "scattercarpet": [
           {
            "marker": {
             "colorbar": {
              "outlinewidth": 0,
              "ticks": ""
             }
            },
            "type": "scattercarpet"
           }
          ],
          "scattergeo": [
           {
            "marker": {
             "colorbar": {
              "outlinewidth": 0,
              "ticks": ""
             }
            },
            "type": "scattergeo"
           }
          ],
          "scattergl": [
           {
            "marker": {
             "colorbar": {
              "outlinewidth": 0,
              "ticks": ""
             }
            },
            "type": "scattergl"
           }
          ],
          "scattermapbox": [
           {
            "marker": {
             "colorbar": {
              "outlinewidth": 0,
              "ticks": ""
             }
            },
            "type": "scattermapbox"
           }
          ],
          "scatterpolar": [
           {
            "marker": {
             "colorbar": {
              "outlinewidth": 0,
              "ticks": ""
             }
            },
            "type": "scatterpolar"
           }
          ],
          "scatterpolargl": [
           {
            "marker": {
             "colorbar": {
              "outlinewidth": 0,
              "ticks": ""
             }
            },
            "type": "scatterpolargl"
           }
          ],
          "scatterternary": [
           {
            "marker": {
             "colorbar": {
              "outlinewidth": 0,
              "ticks": ""
             }
            },
            "type": "scatterternary"
           }
          ],
          "surface": [
           {
            "colorbar": {
             "outlinewidth": 0,
             "ticks": ""
            },
            "colorscale": [
             [
              0,
              "#0d0887"
             ],
             [
              0.1111111111111111,
              "#46039f"
             ],
             [
              0.2222222222222222,
              "#7201a8"
             ],
             [
              0.3333333333333333,
              "#9c179e"
             ],
             [
              0.4444444444444444,
              "#bd3786"
             ],
             [
              0.5555555555555556,
              "#d8576b"
             ],
             [
              0.6666666666666666,
              "#ed7953"
             ],
             [
              0.7777777777777778,
              "#fb9f3a"
             ],
             [
              0.8888888888888888,
              "#fdca26"
             ],
             [
              1,
              "#f0f921"
             ]
            ],
            "type": "surface"
           }
          ],
          "table": [
           {
            "cells": {
             "fill": {
              "color": "#EBF0F8"
             },
             "line": {
              "color": "white"
             }
            },
            "header": {
             "fill": {
              "color": "#C8D4E3"
             },
             "line": {
              "color": "white"
             }
            },
            "type": "table"
           }
          ]
         },
         "layout": {
          "annotationdefaults": {
           "arrowcolor": "#2a3f5f",
           "arrowhead": 0,
           "arrowwidth": 1
          },
          "autotypenumbers": "strict",
          "coloraxis": {
           "colorbar": {
            "outlinewidth": 0,
            "ticks": ""
           }
          },
          "colorscale": {
           "diverging": [
            [
             0,
             "#8e0152"
            ],
            [
             0.1,
             "#c51b7d"
            ],
            [
             0.2,
             "#de77ae"
            ],
            [
             0.3,
             "#f1b6da"
            ],
            [
             0.4,
             "#fde0ef"
            ],
            [
             0.5,
             "#f7f7f7"
            ],
            [
             0.6,
             "#e6f5d0"
            ],
            [
             0.7,
             "#b8e186"
            ],
            [
             0.8,
             "#7fbc41"
            ],
            [
             0.9,
             "#4d9221"
            ],
            [
             1,
             "#276419"
            ]
           ],
           "sequential": [
            [
             0,
             "#0d0887"
            ],
            [
             0.1111111111111111,
             "#46039f"
            ],
            [
             0.2222222222222222,
             "#7201a8"
            ],
            [
             0.3333333333333333,
             "#9c179e"
            ],
            [
             0.4444444444444444,
             "#bd3786"
            ],
            [
             0.5555555555555556,
             "#d8576b"
            ],
            [
             0.6666666666666666,
             "#ed7953"
            ],
            [
             0.7777777777777778,
             "#fb9f3a"
            ],
            [
             0.8888888888888888,
             "#fdca26"
            ],
            [
             1,
             "#f0f921"
            ]
           ],
           "sequentialminus": [
            [
             0,
             "#0d0887"
            ],
            [
             0.1111111111111111,
             "#46039f"
            ],
            [
             0.2222222222222222,
             "#7201a8"
            ],
            [
             0.3333333333333333,
             "#9c179e"
            ],
            [
             0.4444444444444444,
             "#bd3786"
            ],
            [
             0.5555555555555556,
             "#d8576b"
            ],
            [
             0.6666666666666666,
             "#ed7953"
            ],
            [
             0.7777777777777778,
             "#fb9f3a"
            ],
            [
             0.8888888888888888,
             "#fdca26"
            ],
            [
             1,
             "#f0f921"
            ]
           ]
          },
          "colorway": [
           "#636efa",
           "#EF553B",
           "#00cc96",
           "#ab63fa",
           "#FFA15A",
           "#19d3f3",
           "#FF6692",
           "#B6E880",
           "#FF97FF",
           "#FECB52"
          ],
          "font": {
           "color": "#2a3f5f"
          },
          "geo": {
           "bgcolor": "white",
           "lakecolor": "white",
           "landcolor": "#E5ECF6",
           "showlakes": true,
           "showland": true,
           "subunitcolor": "white"
          },
          "hoverlabel": {
           "align": "left"
          },
          "hovermode": "closest",
          "mapbox": {
           "style": "light"
          },
          "paper_bgcolor": "white",
          "plot_bgcolor": "#E5ECF6",
          "polar": {
           "angularaxis": {
            "gridcolor": "white",
            "linecolor": "white",
            "ticks": ""
           },
           "bgcolor": "#E5ECF6",
           "radialaxis": {
            "gridcolor": "white",
            "linecolor": "white",
            "ticks": ""
           }
          },
          "scene": {
           "xaxis": {
            "backgroundcolor": "#E5ECF6",
            "gridcolor": "white",
            "gridwidth": 2,
            "linecolor": "white",
            "showbackground": true,
            "ticks": "",
            "zerolinecolor": "white"
           },
           "yaxis": {
            "backgroundcolor": "#E5ECF6",
            "gridcolor": "white",
            "gridwidth": 2,
            "linecolor": "white",
            "showbackground": true,
            "ticks": "",
            "zerolinecolor": "white"
           },
           "zaxis": {
            "backgroundcolor": "#E5ECF6",
            "gridcolor": "white",
            "gridwidth": 2,
            "linecolor": "white",
            "showbackground": true,
            "ticks": "",
            "zerolinecolor": "white"
           }
          },
          "shapedefaults": {
           "line": {
            "color": "#2a3f5f"
           }
          },
          "ternary": {
           "aaxis": {
            "gridcolor": "white",
            "linecolor": "white",
            "ticks": ""
           },
           "baxis": {
            "gridcolor": "white",
            "linecolor": "white",
            "ticks": ""
           },
           "bgcolor": "#E5ECF6",
           "caxis": {
            "gridcolor": "white",
            "linecolor": "white",
            "ticks": ""
           }
          },
          "title": {
           "x": 0.05
          },
          "xaxis": {
           "automargin": true,
           "gridcolor": "white",
           "linecolor": "white",
           "ticks": "",
           "title": {
            "standoff": 15
           },
           "zerolinecolor": "white",
           "zerolinewidth": 2
          },
          "yaxis": {
           "automargin": true,
           "gridcolor": "white",
           "linecolor": "white",
           "ticks": "",
           "title": {
            "standoff": 15
           },
           "zerolinecolor": "white",
           "zerolinewidth": 2
          }
         }
        },
        "title": {
         "text": "Financer to Producer"
        }
       }
      },
      "text/html": [
       "<div>                            <div id=\"82702aa5-4f64-4855-8778-eace8b57db56\" class=\"plotly-graph-div\" style=\"height:525px; width:100%;\"></div>            <script type=\"text/javascript\">                require([\"plotly\"], function(Plotly) {                    window.PLOTLYENV=window.PLOTLYENV || {};                                    if (document.getElementById(\"82702aa5-4f64-4855-8778-eace8b57db56\")) {                    Plotly.newPlot(                        \"82702aa5-4f64-4855-8778-eace8b57db56\",                        [{\"link\": {\"source\": [1, 1, 1, 1, 1, 1, 1, 1, 5, 5, 5, 5, 5, 5, 5, 5, 5, 5, 5, 2, 2, 2, 2, 2, 2, 2, 2, 2, 2, 0, 0, 0, 0, 0, 0, 0, 0, 0, 4, 4, 4, 4, 4, 4, 4, 4, 4, 4, 4, 4, 6, 6, 6, 6, 6, 6, 6, 6, 6, 6, 6, 3, 3, 3, 3, 3, 3, 3, 9, 9, 9, 7, 7, 7, 7, 7, 7, 7, 7, 7, 8, 8, 8, 8, 8, 8, 8], \"target\": [null, 10.0, 23.0, 27.0, 17.0, 19.0, 36.0, 29.0, null, 10.0, 23.0, 27.0, 17.0, 11.0, 19.0, 39.0, 36.0, null, null, null, 10.0, 23.0, 27.0, 17.0, 11.0, 19.0, 39.0, 36.0, null, null, 10.0, 23.0, 27.0, 17.0, 11.0, 24.0, 19.0, 36.0, null, 10.0, 23.0, 27.0, 17.0, 11.0, 24.0, 19.0, 39.0, 36.0, null, 29.0, null, 10.0, 27.0, 17.0, 11.0, 24.0, 21.0, 39.0, 36.0, null, null, null, 10.0, 23.0, 27.0, 17.0, 11.0, null, null, 10.0, 27.0, null, 10.0, 27.0, 17.0, 11.0, 24.0, 21.0, 39.0, null, null, 10.0, 27.0, 17.0, 11.0, 39.0, null], \"value\": [7616.337514872175, 1890.5274831504614, 3060.8868581978727, 1417.3327671737807, 173.81288447838347, 301.05142552259167, 100.08980069425385, 290.4263746812078, 6998.480316568065, 764.2433893581599, 2804.7230101120977, 731.731530673419, 142.21510934646943, 106.98370916338095, 615.4174641642605, 169.2088839516584, 113.72898583985595, 439.9529737572747, 299.5218074438451, 6923.347486708095, 912.3802078608372, 1212.1837901487952, 942.4340348274907, 1015.01702333602, 519.320566286935, 571.8665799304023, 279.47107463107494, 174.99178417880705, 420.0518166978108, 6067.817899645234, 288.7553803276317, 2265.8510388995546, 909.3823563316586, 573.5441047697689, 109.76806989068791, 484.3948255076693, 510.0974976510601, 137.6965523483557, 5165.508740094389, 153.6497201467447, 703.6414139026331, 416.20100293497916, 862.2037723674243, 254.02208340375486, 350.1445179336839, 317.285085987338, 151.29153304971413, 158.33112170737755, 508.19491264760484, 545.5534545810274, 3950.9509408210897, 1531.9838664327315, 150.56920668372527, 149.5513090653602, 183.8933016506307, 122.20828258725408, 125.23333024568187, 122.74079569399764, 128.02813593956952, 125.88463692478729, 237.5978624764164, 3369.9644324501523, 474.21292770265444, 338.4796796554225, 1148.6881013157085, 198.6697128958987, 187.90234374471217, 417.3337069687139, 3100.9203070474023, 2477.195610160674, 292.5138654083921, 3184.770015106448, 420.7287259343586, 573.1535470308498, 382.24968908538597, 106.847411856367, 142.92322267004002, 195.57132175291108, 129.02993049592615, 246.70691881378028, 2908.8140399968793, 267.6111903897372, 187.50393729084198, 548.8996611396997, 517.8191052394914, 175.7899774645593, 359.0745390440734]}, \"node\": {\"color\": \"black\", \"label\": [\"Bank of America\", \"Barclays\", \"Citigroup\", \"Deutsche Bank\", \"HSBC\", \"JPMorgan Chase\", \"Mitsubishi UFJ Financial\", \"Mizuho Financial\", \"SMBC Group\", \"UniCredit\", \"ABU DHABI NATIONAL OIL COMPANY (ADNOC)\", \"BOREALIS AG\", \"Braskem SA\", \"CHINA ENERGY INVESTMENT GROUP CO., LTD.\", \"CNOOC Ltd\", \"Chandra Asri Petrochemical Tbk\", \"Chevron Corp\", \"China Petroleum & Chemical Corp\", \"Dow Inc\", \"Ecopetrol SA\", \"Exxon Mobil Corp\", \"Far Eastern New Century Corp\", \"Formosa Plastics Corp\", \"GAIL India Ltd\", \"INEOS LIMITED\", \"Indorama Ventures PCL\", \"LG Chem Ltd\", \"Lotte Chemical Corp\", \"LyondellBasell Industries NV\", \"Mesaieed Petrochemical Holding\", \"NOVA CHEMICALS CORPORATION\", \"Nan Ya Plastics Corp\", \"National Petrochemical Co\", \"Ningxia Baofeng Energy Group C\", \"PTT PCL\", \"PetroChina Co Ltd\", \"Petronas Chemicals Group Bhd\", \"Reliance Industries Ltd\", \"Rongsheng Petro Chemical Co Lt\", \"SHAANXI YANCHANG PETROLEUM (GROUP) CO., LTD.\", \"Saudi Arabian Oil Co\", \"Saudi Basic Industries Corp\", \"Saudi Kayan Petrochemical Co\", \"Siam Cement PCL/The\", \"TOTAL SE\", \"Westlake Chemical Corp\", \"Yanbu National Petrochemical C\", \"Zhejiang Satellite Petrochemic\"], \"line\": {\"color\": \"black\", \"width\": 0.5}, \"pad\": 15, \"thickness\": 20}, \"type\": \"sankey\"}],                        {\"font\": {\"size\": 10}, \"template\": {\"data\": {\"bar\": [{\"error_x\": {\"color\": \"#2a3f5f\"}, \"error_y\": {\"color\": \"#2a3f5f\"}, \"marker\": {\"line\": {\"color\": \"#E5ECF6\", \"width\": 0.5}}, \"type\": \"bar\"}], \"barpolar\": [{\"marker\": {\"line\": {\"color\": \"#E5ECF6\", \"width\": 0.5}}, \"type\": \"barpolar\"}], \"carpet\": [{\"aaxis\": {\"endlinecolor\": \"#2a3f5f\", \"gridcolor\": \"white\", \"linecolor\": \"white\", \"minorgridcolor\": \"white\", \"startlinecolor\": \"#2a3f5f\"}, \"baxis\": {\"endlinecolor\": \"#2a3f5f\", \"gridcolor\": \"white\", \"linecolor\": \"white\", \"minorgridcolor\": \"white\", \"startlinecolor\": \"#2a3f5f\"}, \"type\": \"carpet\"}], \"choropleth\": [{\"colorbar\": {\"outlinewidth\": 0, \"ticks\": \"\"}, \"type\": \"choropleth\"}], \"contour\": [{\"colorbar\": {\"outlinewidth\": 0, \"ticks\": \"\"}, \"colorscale\": [[0.0, \"#0d0887\"], [0.1111111111111111, \"#46039f\"], [0.2222222222222222, \"#7201a8\"], [0.3333333333333333, \"#9c179e\"], [0.4444444444444444, \"#bd3786\"], [0.5555555555555556, \"#d8576b\"], [0.6666666666666666, \"#ed7953\"], [0.7777777777777778, \"#fb9f3a\"], [0.8888888888888888, \"#fdca26\"], [1.0, \"#f0f921\"]], \"type\": \"contour\"}], \"contourcarpet\": [{\"colorbar\": {\"outlinewidth\": 0, \"ticks\": \"\"}, \"type\": \"contourcarpet\"}], \"heatmap\": [{\"colorbar\": {\"outlinewidth\": 0, \"ticks\": \"\"}, \"colorscale\": [[0.0, \"#0d0887\"], [0.1111111111111111, \"#46039f\"], [0.2222222222222222, \"#7201a8\"], [0.3333333333333333, \"#9c179e\"], [0.4444444444444444, \"#bd3786\"], [0.5555555555555556, \"#d8576b\"], [0.6666666666666666, \"#ed7953\"], [0.7777777777777778, \"#fb9f3a\"], [0.8888888888888888, \"#fdca26\"], [1.0, \"#f0f921\"]], \"type\": \"heatmap\"}], \"heatmapgl\": [{\"colorbar\": {\"outlinewidth\": 0, \"ticks\": \"\"}, \"colorscale\": [[0.0, \"#0d0887\"], [0.1111111111111111, \"#46039f\"], [0.2222222222222222, \"#7201a8\"], [0.3333333333333333, \"#9c179e\"], [0.4444444444444444, \"#bd3786\"], [0.5555555555555556, \"#d8576b\"], [0.6666666666666666, \"#ed7953\"], [0.7777777777777778, \"#fb9f3a\"], [0.8888888888888888, \"#fdca26\"], [1.0, \"#f0f921\"]], \"type\": \"heatmapgl\"}], \"histogram\": [{\"marker\": {\"colorbar\": {\"outlinewidth\": 0, \"ticks\": \"\"}}, \"type\": \"histogram\"}], \"histogram2d\": [{\"colorbar\": {\"outlinewidth\": 0, \"ticks\": \"\"}, \"colorscale\": [[0.0, \"#0d0887\"], [0.1111111111111111, \"#46039f\"], [0.2222222222222222, \"#7201a8\"], [0.3333333333333333, \"#9c179e\"], [0.4444444444444444, \"#bd3786\"], [0.5555555555555556, \"#d8576b\"], [0.6666666666666666, \"#ed7953\"], [0.7777777777777778, \"#fb9f3a\"], [0.8888888888888888, \"#fdca26\"], [1.0, \"#f0f921\"]], \"type\": \"histogram2d\"}], \"histogram2dcontour\": [{\"colorbar\": {\"outlinewidth\": 0, \"ticks\": \"\"}, \"colorscale\": [[0.0, \"#0d0887\"], [0.1111111111111111, \"#46039f\"], [0.2222222222222222, \"#7201a8\"], [0.3333333333333333, \"#9c179e\"], [0.4444444444444444, \"#bd3786\"], [0.5555555555555556, \"#d8576b\"], [0.6666666666666666, \"#ed7953\"], [0.7777777777777778, \"#fb9f3a\"], [0.8888888888888888, \"#fdca26\"], [1.0, \"#f0f921\"]], \"type\": \"histogram2dcontour\"}], \"mesh3d\": [{\"colorbar\": {\"outlinewidth\": 0, \"ticks\": \"\"}, \"type\": \"mesh3d\"}], \"parcoords\": [{\"line\": {\"colorbar\": {\"outlinewidth\": 0, \"ticks\": \"\"}}, \"type\": \"parcoords\"}], \"pie\": [{\"automargin\": true, \"type\": \"pie\"}], \"scatter\": [{\"marker\": {\"colorbar\": {\"outlinewidth\": 0, \"ticks\": \"\"}}, \"type\": \"scatter\"}], \"scatter3d\": [{\"line\": {\"colorbar\": {\"outlinewidth\": 0, \"ticks\": \"\"}}, \"marker\": {\"colorbar\": {\"outlinewidth\": 0, \"ticks\": \"\"}}, \"type\": \"scatter3d\"}], \"scattercarpet\": [{\"marker\": {\"colorbar\": {\"outlinewidth\": 0, \"ticks\": \"\"}}, \"type\": \"scattercarpet\"}], \"scattergeo\": [{\"marker\": {\"colorbar\": {\"outlinewidth\": 0, \"ticks\": \"\"}}, \"type\": \"scattergeo\"}], \"scattergl\": [{\"marker\": {\"colorbar\": {\"outlinewidth\": 0, \"ticks\": \"\"}}, \"type\": \"scattergl\"}], \"scattermapbox\": [{\"marker\": {\"colorbar\": {\"outlinewidth\": 0, \"ticks\": \"\"}}, \"type\": \"scattermapbox\"}], \"scatterpolar\": [{\"marker\": {\"colorbar\": {\"outlinewidth\": 0, \"ticks\": \"\"}}, \"type\": \"scatterpolar\"}], \"scatterpolargl\": [{\"marker\": {\"colorbar\": {\"outlinewidth\": 0, \"ticks\": \"\"}}, \"type\": \"scatterpolargl\"}], \"scatterternary\": [{\"marker\": {\"colorbar\": {\"outlinewidth\": 0, \"ticks\": \"\"}}, \"type\": \"scatterternary\"}], \"surface\": [{\"colorbar\": {\"outlinewidth\": 0, \"ticks\": \"\"}, \"colorscale\": [[0.0, \"#0d0887\"], [0.1111111111111111, \"#46039f\"], [0.2222222222222222, \"#7201a8\"], [0.3333333333333333, \"#9c179e\"], [0.4444444444444444, \"#bd3786\"], [0.5555555555555556, \"#d8576b\"], [0.6666666666666666, \"#ed7953\"], [0.7777777777777778, \"#fb9f3a\"], [0.8888888888888888, \"#fdca26\"], [1.0, \"#f0f921\"]], \"type\": \"surface\"}], \"table\": [{\"cells\": {\"fill\": {\"color\": \"#EBF0F8\"}, \"line\": {\"color\": \"white\"}}, \"header\": {\"fill\": {\"color\": \"#C8D4E3\"}, \"line\": {\"color\": \"white\"}}, \"type\": \"table\"}]}, \"layout\": {\"annotationdefaults\": {\"arrowcolor\": \"#2a3f5f\", \"arrowhead\": 0, \"arrowwidth\": 1}, \"autotypenumbers\": \"strict\", \"coloraxis\": {\"colorbar\": {\"outlinewidth\": 0, \"ticks\": \"\"}}, \"colorscale\": {\"diverging\": [[0, \"#8e0152\"], [0.1, \"#c51b7d\"], [0.2, \"#de77ae\"], [0.3, \"#f1b6da\"], [0.4, \"#fde0ef\"], [0.5, \"#f7f7f7\"], [0.6, \"#e6f5d0\"], [0.7, \"#b8e186\"], [0.8, \"#7fbc41\"], [0.9, \"#4d9221\"], [1, \"#276419\"]], \"sequential\": [[0.0, \"#0d0887\"], [0.1111111111111111, \"#46039f\"], [0.2222222222222222, \"#7201a8\"], [0.3333333333333333, \"#9c179e\"], [0.4444444444444444, \"#bd3786\"], [0.5555555555555556, \"#d8576b\"], [0.6666666666666666, \"#ed7953\"], [0.7777777777777778, \"#fb9f3a\"], [0.8888888888888888, \"#fdca26\"], [1.0, \"#f0f921\"]], \"sequentialminus\": [[0.0, \"#0d0887\"], [0.1111111111111111, \"#46039f\"], [0.2222222222222222, \"#7201a8\"], [0.3333333333333333, \"#9c179e\"], [0.4444444444444444, \"#bd3786\"], [0.5555555555555556, \"#d8576b\"], [0.6666666666666666, \"#ed7953\"], [0.7777777777777778, \"#fb9f3a\"], [0.8888888888888888, \"#fdca26\"], [1.0, \"#f0f921\"]]}, \"colorway\": [\"#636efa\", \"#EF553B\", \"#00cc96\", \"#ab63fa\", \"#FFA15A\", \"#19d3f3\", \"#FF6692\", \"#B6E880\", \"#FF97FF\", \"#FECB52\"], \"font\": {\"color\": \"#2a3f5f\"}, \"geo\": {\"bgcolor\": \"white\", \"lakecolor\": \"white\", \"landcolor\": \"#E5ECF6\", \"showlakes\": true, \"showland\": true, \"subunitcolor\": \"white\"}, \"hoverlabel\": {\"align\": \"left\"}, \"hovermode\": \"closest\", \"mapbox\": {\"style\": \"light\"}, \"paper_bgcolor\": \"white\", \"plot_bgcolor\": \"#E5ECF6\", \"polar\": {\"angularaxis\": {\"gridcolor\": \"white\", \"linecolor\": \"white\", \"ticks\": \"\"}, \"bgcolor\": \"#E5ECF6\", \"radialaxis\": {\"gridcolor\": \"white\", \"linecolor\": \"white\", \"ticks\": \"\"}}, \"scene\": {\"xaxis\": {\"backgroundcolor\": \"#E5ECF6\", \"gridcolor\": \"white\", \"gridwidth\": 2, \"linecolor\": \"white\", \"showbackground\": true, \"ticks\": \"\", \"zerolinecolor\": \"white\"}, \"yaxis\": {\"backgroundcolor\": \"#E5ECF6\", \"gridcolor\": \"white\", \"gridwidth\": 2, \"linecolor\": \"white\", \"showbackground\": true, \"ticks\": \"\", \"zerolinecolor\": \"white\"}, \"zaxis\": {\"backgroundcolor\": \"#E5ECF6\", \"gridcolor\": \"white\", \"gridwidth\": 2, \"linecolor\": \"white\", \"showbackground\": true, \"ticks\": \"\", \"zerolinecolor\": \"white\"}}, \"shapedefaults\": {\"line\": {\"color\": \"#2a3f5f\"}}, \"ternary\": {\"aaxis\": {\"gridcolor\": \"white\", \"linecolor\": \"white\", \"ticks\": \"\"}, \"baxis\": {\"gridcolor\": \"white\", \"linecolor\": \"white\", \"ticks\": \"\"}, \"bgcolor\": \"#E5ECF6\", \"caxis\": {\"gridcolor\": \"white\", \"linecolor\": \"white\", \"ticks\": \"\"}}, \"title\": {\"x\": 0.05}, \"xaxis\": {\"automargin\": true, \"gridcolor\": \"white\", \"linecolor\": \"white\", \"ticks\": \"\", \"title\": {\"standoff\": 15}, \"zerolinecolor\": \"white\", \"zerolinewidth\": 2}, \"yaxis\": {\"automargin\": true, \"gridcolor\": \"white\", \"linecolor\": \"white\", \"ticks\": \"\", \"title\": {\"standoff\": 15}, \"zerolinecolor\": \"white\", \"zerolinewidth\": 2}}}, \"title\": {\"text\": \"Financer to Producer\"}},                        {\"responsive\": true}                    ).then(function(){\n",
       "                            \n",
       "var gd = document.getElementById('82702aa5-4f64-4855-8778-eace8b57db56');\n",
       "var x = new MutationObserver(function (mutations, observer) {{\n",
       "        var display = window.getComputedStyle(gd).display;\n",
       "        if (!display || display === 'none') {{\n",
       "            console.log([gd, 'removed!']);\n",
       "            Plotly.purge(gd);\n",
       "            observer.disconnect();\n",
       "        }}\n",
       "}});\n",
       "\n",
       "// Listen for the removal of the full notebook cells\n",
       "var notebookContainer = gd.closest('#notebook-container');\n",
       "if (notebookContainer) {{\n",
       "    x.observe(notebookContainer, {childList: true});\n",
       "}}\n",
       "\n",
       "// Listen for the clearing of the current output cell\n",
       "var outputEl = gd.closest('.output');\n",
       "if (outputEl) {{\n",
       "    x.observe(outputEl, {childList: true});\n",
       "}}\n",
       "\n",
       "                        })                };                });            </script>        </div>"
      ]
     },
     "metadata": {},
     "output_type": "display_data"
    }
   ],
   "source": [
    "sankey_df = create_sankey_df(filtered_df, min_val=100)\n",
    "sankey_dict = create_sankey_dict(sankey_df)\n",
    "financer_plot = plot_sankey(sankey_dict, 'Financer to Producer')\n",
    "financer_plot.show()"
   ]
  },
  {
   "cell_type": "code",
   "execution_count": null,
   "metadata": {},
   "outputs": [],
   "source": []
  }
 ],
 "metadata": {
  "kernelspec": {
   "display_name": "Python 3",
   "language": "python",
   "name": "python3"
  },
  "language_info": {
   "codemirror_mode": {
    "name": "ipython",
    "version": 3
   },
   "file_extension": ".py",
   "mimetype": "text/x-python",
   "name": "python",
   "nbconvert_exporter": "python",
   "pygments_lexer": "ipython3",
   "version": "3.6.5"
  }
 },
 "nbformat": 4,
 "nbformat_minor": 4
}
